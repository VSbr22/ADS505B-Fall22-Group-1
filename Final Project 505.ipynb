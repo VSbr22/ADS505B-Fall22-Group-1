{
 "cells": [
  {
   "cell_type": "markdown",
   "id": "a1a3bd52",
   "metadata": {},
   "source": [
    "# Notes: \n",
    "\n",
    "    - Some product names go by 10's of ID's, should we drop name or ID? We would have more unique values with ID \n",
    "      but it would be more redundant, whereas we could have only ~ 4000 unique names to work with \n",
    "            - The product ID seems to correspond to the category and subcategory, for example: \n",
    "             \n",
    "                              TEC-AC-10003033\tTechnology\tAccessories\n",
    "               \n",
    "    - There are exactly 2 Customer ID's for each Customer, and they look very similar except one is less a digit, \n",
    "      like the following: Michael Chen\t['MC-17845' 'MC-7845']. \n",
    "            - Does it make sense then to get rid of the Customer ID's and just Use the names? Or to assign \n",
    "              one customer ID to each customer rather than 2? \n",
    "   - Order ID: \n",
    "       There are 51290 rows, but 25035 order ID values, so what does Order ID really represent if not each order?\n",
    "       \n",
    "   - Calculate profits per year/ per month \n",
    "   \n",
    "   - How much profit per product? per Customer? per Area? Etc?\n",
    "   \n",
    "   - Fix skewed predictors?"
   ]
  },
  {
   "cell_type": "markdown",
   "id": "e311fedd",
   "metadata": {},
   "source": [
    "## Setup "
   ]
  },
  {
   "cell_type": "code",
   "execution_count": 118,
   "id": "d6f1d9d7",
   "metadata": {},
   "outputs": [],
   "source": [
    "import pandas as pd\n",
    "import numpy as np\n",
    "import seaborn as sns\n",
    "import scipy\n",
    "\n",
    "import matplotlib.pylab as plt\n",
    "%matplotlib inline\n",
    "\n",
    "import statsmodels.formula.api as sm\n",
    "from scipy.stats import skew\n",
    "\n",
    "from dmba import regressionSummary, exhaustive_search\n",
    "from dmba import backward_elimination, forward_selection, stepwise_selection\n",
    "from dmba import adjusted_r2_score, AIC_score, BIC_score\n",
    "from dmba import plotDecisionTree, gainsChart, liftChart\n",
    "from dmba import classificationSummary, regressionSummary\n",
    "\n",
    "from sklearn.linear_model import LinearRegression, Lasso, Ridge, LassoCV, BayesianRidge, SGDRegressor\n",
    "from sklearn.linear_model import LogisticRegression, LogisticRegressionCV\n",
    "from sklearn.svm import SVR\n",
    "from sklearn.impute import SimpleImputer\n",
    "from sklearn import tree\n",
    "from sklearn.ensemble import RandomForestClassifier\n",
    "from sklearn.model_selection import train_test_split, GridSearchCV, KFold, cross_val_score\n",
    "from sklearn.tree import DecisionTreeClassifier, DecisionTreeRegressor, export_graphviz, plot_tree\n",
    "from sklearn import preprocessing\n",
    "from sklearn.neighbors import KNeighborsClassifier\n",
    "from sklearn.metrics import f1_score, precision_score, recall_score, accuracy_score, confusion_matrix,r2_score\n",
    "from sklearn.preprocessing import OrdinalEncoder, StandardScaler, MinMaxScaler\n",
    "\n",
    "\n",
    "import statsmodels.tools.tools as stattools"
   ]
  },
  {
   "cell_type": "markdown",
   "id": "c2140660",
   "metadata": {},
   "source": [
    "## Load Data"
   ]
  },
  {
   "cell_type": "code",
   "execution_count": 119,
   "id": "3368ae88",
   "metadata": {},
   "outputs": [],
   "source": [
    "# import the original df and then make a copy for preprocessing so we have the original if needed \n",
    "og_df  = pd.read_csv(r'/Users/summerpurschke/Desktop/ADS/Global_Superstore2.csv')\n",
    "\n",
    "df = og_df.copy()"
   ]
  },
  {
   "cell_type": "code",
   "execution_count": 120,
   "id": "cfbf78d7",
   "metadata": {},
   "outputs": [
    {
     "data": {
      "text/plain": [
       "Row ID              int64\n",
       "Order ID           object\n",
       "Order Date         object\n",
       "Ship Date          object\n",
       "Ship Mode          object\n",
       "Customer ID        object\n",
       "Customer Name      object\n",
       "Segment            object\n",
       "City               object\n",
       "State              object\n",
       "Country            object\n",
       "Postal Code       float64\n",
       "Market             object\n",
       "Region             object\n",
       "Product ID         object\n",
       "Category           object\n",
       "Sub-Category       object\n",
       "Product Name       object\n",
       "Sales             float64\n",
       "Quantity            int64\n",
       "Discount          float64\n",
       "Profit            float64\n",
       "Shipping Cost     float64\n",
       "Order Priority     object\n",
       "dtype: object"
      ]
     },
     "execution_count": 120,
     "metadata": {},
     "output_type": "execute_result"
    }
   ],
   "source": [
    "df.dtypes"
   ]
  },
  {
   "cell_type": "markdown",
   "id": "129b1585",
   "metadata": {},
   "source": [
    "## Explore Data "
   ]
  },
  {
   "cell_type": "code",
   "execution_count": 121,
   "id": "47be61a0",
   "metadata": {},
   "outputs": [],
   "source": [
    "#df.info()"
   ]
  },
  {
   "cell_type": "code",
   "execution_count": 122,
   "id": "3f588fce",
   "metadata": {
    "scrolled": true
   },
   "outputs": [],
   "source": [
    "#df.describe()"
   ]
  },
  {
   "cell_type": "code",
   "execution_count": 123,
   "id": "7da9923a",
   "metadata": {},
   "outputs": [
    {
     "name": "stdout",
     "output_type": "stream",
     "text": [
      "Sales Skew: 8.137842017336732\n",
      "Quantity Skew: 1.3603279457897046\n",
      "Discount Skew: 1.3877339656893208\n",
      "Profit Skew: 4.157066952869827\n",
      "Shipping Cost Skew: 5.863054951522988\n"
     ]
    }
   ],
   "source": [
    "# Skewed predictors\n",
    "print('Sales Skew:', skew(df['Sales'], axis = 0, bias = True ))\n",
    "print('Quantity Skew:', skew(df['Quantity'], axis = 0, bias = True ))\n",
    "print('Discount Skew:', skew(df['Discount'], axis = 0, bias = True ))\n",
    "print('Profit Skew:', skew(df['Profit'], axis = 0, bias = True ))\n",
    "print('Shipping Cost Skew:', skew(df['Shipping Cost'], axis = 0, bias = True ))"
   ]
  },
  {
   "cell_type": "code",
   "execution_count": 124,
   "id": "31ee8024",
   "metadata": {},
   "outputs": [],
   "source": [
    "# Format column names \n",
    "df.columns = [d.replace(' ', '_') for d in df.columns]\n",
    "df.columns = [d.replace('-', '_') for d in df.columns]"
   ]
  },
  {
   "cell_type": "code",
   "execution_count": 125,
   "id": "984c3dcc",
   "metadata": {},
   "outputs": [
    {
     "data": {
      "text/plain": [
       "Row_ID                0\n",
       "Order_ID              0\n",
       "Order_Date            0\n",
       "Ship_Date             0\n",
       "Ship_Mode             0\n",
       "Customer_ID           0\n",
       "Customer_Name         0\n",
       "Segment               0\n",
       "City                  0\n",
       "State                 0\n",
       "Country               0\n",
       "Postal_Code       41296\n",
       "Market                0\n",
       "Region                0\n",
       "Product_ID            0\n",
       "Category              0\n",
       "Sub_Category          0\n",
       "Product_Name          0\n",
       "Sales                 0\n",
       "Quantity              0\n",
       "Discount              0\n",
       "Profit                0\n",
       "Shipping_Cost         0\n",
       "Order_Priority        0\n",
       "dtype: int64"
      ]
     },
     "execution_count": 125,
     "metadata": {},
     "output_type": "execute_result"
    }
   ],
   "source": [
    "# Missing values \n",
    "df.isnull().sum(axis = 0)"
   ]
  },
  {
   "cell_type": "code",
   "execution_count": 126,
   "id": "65493355",
   "metadata": {},
   "outputs": [],
   "source": [
    "# Change time/date variables to correct format \n",
    "df['Order_Date'] = pd.to_datetime(df['Order_Date'], infer_datetime_format=True)\n",
    "df['Ship_Date'] = pd.to_datetime(df['Ship_Date'], infer_datetime_format=True)"
   ]
  },
  {
   "cell_type": "code",
   "execution_count": 127,
   "id": "3bfacbcd",
   "metadata": {},
   "outputs": [
    {
     "data": {
      "text/plain": [
       "Row_ID                     int64\n",
       "Order_ID                  object\n",
       "Order_Date        datetime64[ns]\n",
       "Ship_Date         datetime64[ns]\n",
       "Ship_Mode                 object\n",
       "Customer_ID               object\n",
       "Customer_Name             object\n",
       "Segment                   object\n",
       "City                      object\n",
       "State                     object\n",
       "Country                   object\n",
       "Postal_Code              float64\n",
       "Market                    object\n",
       "Region                    object\n",
       "Product_ID                object\n",
       "Category                  object\n",
       "Sub_Category              object\n",
       "Product_Name              object\n",
       "Sales                    float64\n",
       "Quantity                   int64\n",
       "Discount                 float64\n",
       "Profit                   float64\n",
       "Shipping_Cost            float64\n",
       "Order_Priority            object\n",
       "dtype: object"
      ]
     },
     "execution_count": 127,
     "metadata": {},
     "output_type": "execute_result"
    }
   ],
   "source": [
    "df.dtypes"
   ]
  },
  {
   "cell_type": "code",
   "execution_count": 128,
   "id": "f6647dd5",
   "metadata": {},
   "outputs": [],
   "source": [
    "# Coerce categories as needed for analysis \n",
    "df['Ship_Mode']= df['Ship_Mode'].astype('category')\n",
    "df['Segment']= df['Segment'].astype('category')\n",
    "df['Country']= df['Country'].astype('category')\n",
    "df['Market']= df['Market'].astype('category')\n",
    "df['Region']= df['Region'].astype('category')\n",
    "df['Category']= df['Category'].astype('category')\n",
    "df['Sub_Category']= df['Sub_Category'].astype('category')\n",
    "df['Order_Priority']= df['Order_Priority'].astype('category')"
   ]
  },
  {
   "cell_type": "code",
   "execution_count": 129,
   "id": "057f4dde",
   "metadata": {},
   "outputs": [
    {
     "data": {
      "text/plain": [
       "(25035, (51290, 24))"
      ]
     },
     "execution_count": 129,
     "metadata": {},
     "output_type": "execute_result"
    }
   ],
   "source": [
    "df['Order_ID'].nunique(), df.shape"
   ]
  },
  {
   "cell_type": "code",
   "execution_count": 130,
   "id": "9305ad49",
   "metadata": {},
   "outputs": [
    {
     "ename": "SyntaxError",
     "evalue": "EOL while scanning string literal (<ipython-input-130-6246587286fd>, line 2)",
     "output_type": "error",
     "traceback": [
      "\u001b[0;36m  File \u001b[0;32m\"<ipython-input-130-6246587286fd>\"\u001b[0;36m, line \u001b[0;32m2\u001b[0m\n\u001b[0;31m    print(' Quantity of Order IDs per country)\u001b[0m\n\u001b[0m                                              ^\u001b[0m\n\u001b[0;31mSyntaxError\u001b[0m\u001b[0;31m:\u001b[0m EOL while scanning string literal\n"
     ]
    }
   ],
   "source": [
    "# How many Order ID's per country? \n",
    "print(' Quantity of Order IDs per country)\n",
    "df.groupby(['Country']).count()[['Order_ID']]  "
   ]
  },
  {
   "cell_type": "code",
   "execution_count": null,
   "id": "6759343e",
   "metadata": {},
   "outputs": [],
   "source": [
    "# How many Order ID's per city? \n",
    "df.groupby(['City']).count()[['Order_ID']]"
   ]
  },
  {
   "cell_type": "code",
   "execution_count": null,
   "id": "2e4664d6",
   "metadata": {
    "scrolled": true
   },
   "outputs": [],
   "source": [
    "# Which city purchases the highest quantity of products?  \n",
    "biggest_procurement = df.groupby(['Country']).sum()[['Quantity']].nlargest(n=10, columns=['Quantity'])\n",
    "biggest_procurement"
   ]
  },
  {
   "cell_type": "code",
   "execution_count": null,
   "id": "e36fbf02",
   "metadata": {},
   "outputs": [],
   "source": [
    "# Which product is the most profitable? \n",
    "most_profitable_product = df.groupby(['Product_Name']).sum()[['Profit']].nlargest(n=5, columns=['Profit'])\n",
    "most_profitable_product"
   ]
  },
  {
   "cell_type": "code",
   "execution_count": null,
   "id": "f28c67a3",
   "metadata": {},
   "outputs": [],
   "source": [
    "# Which country is the most profitable? \n",
    "most_profitable_country = df.groupby(['Country']).sum()[['Profit']].nlargest(n=5, columns=['Profit'])\n",
    "most_profitable_country"
   ]
  },
  {
   "cell_type": "code",
   "execution_count": null,
   "id": "6205772b",
   "metadata": {},
   "outputs": [],
   "source": [
    "# How many product ID's are there? How many Product Names?\n",
    "print('There are', df_copy['Product ID'].nunique(), 'unique product IDs, and', \n",
    "      df_copy['Product Name'].nunique(), ' unique product names')\n",
    "\n",
    "\n",
    "# There are only 3788 Unique products, but some go by different ID's\n",
    "\n",
    "group = pd.DataFrame(df_copy.groupby('Product Name')['Product ID'].unique())\n",
    "group['Product ID'] = group['Product ID'].astype('str')\n",
    "group['#Product IDs'] = group['Product ID'].str.split(' ').apply(len)\n",
    "\n",
    "products  = group.sort_values(by = ['#Product IDs'], ascending = False)\n",
    "products.head()"
   ]
  },
  {
   "cell_type": "code",
   "execution_count": 131,
   "id": "261f3494",
   "metadata": {},
   "outputs": [
    {
     "data": {
      "image/png": "[encoded data removed]",
      "text/plain": [
       "<Figure size 864x864 with 6 Axes>"
      ]
     },
     "metadata": {},
     "output_type": "display_data"
    }
   ],
   "source": [
    "# Plot numeric histograms here\n",
    "\n",
    "sns.set(font_scale=1)\n",
    "fig, axs = plt.subplots(3, 2, figsize = (12,12))\n",
    "fig.subplots_adjust(hspace=0.5, top = 0.75)\n",
    "\n",
    "sns.histplot(df['Sales'], color=\"red\", ax=axs[0, 0])\n",
    "sns.histplot(df['Quantity'], color=\"red\", ax=axs[0, 1])\n",
    "sns.histplot(df['Discount'], color=\"red\", ax=axs[1, 0])\n",
    "sns.histplot(df['Profit'], color=\"red\", ax=axs[1, 1])\n",
    "sns.histplot(df['Order_Priority'], color=\"red\", ax=axs[2, 0])\n",
    "\n",
    "plt.show()"
   ]
  },
  {
   "cell_type": "raw",
   "id": "e079c72e",
   "metadata": {},
   "source": [
    "# Plot categorical histograms here\n",
    "\n",
    "sns.set(font_scale=1)\n",
    "fig, axs = plt.subplots(2, 5, figsize=(12, 12))\n",
    "fig.subplots_adjust(hspace=0.5, top = 0.75)\n",
    "\n",
    "chart = sns.countplot(x=df['Ship_Mode'], color=\"red\", ax=axs[0, 0])\n",
    "chart.set_xticklabels(chart.get_xticklabels(), rotation=20, horizontalalignment='right')\n",
    "\n",
    "chart = sns.countplot(x=df['Segment'], color=\"red\", ax=axs[0, 1])\n",
    "chart.set_xticklabels(chart.get_xticklabels(), rotation=20, horizontalalignment='right')\n",
    "\n",
    "chart = sns.countplot(x=df['City'], color=\"red\", ax=axs[0, 2])\n",
    "chart.set_xticklabels(chart.get_xticklabels(), rotation=20, horizontalalignment='right')\n",
    "\n",
    "chart = sns.countplot(x=df['State'], color=\"red\", ax=axs[0, 3])\n",
    "chart.set_xticklabels(chart.get_xticklabels(), rotation=20, horizontalalignment='right')\n",
    "\n",
    "chart = sns.countplot(x=df['Country'], color=\"red\", ax=axs[0, 4])\n",
    "chart.set_xticklabels(chart.get_xticklabels(), rotation=20, horizontalalignment='right')\n",
    "\n",
    "chart = sns.countplot(x=df['Market'], color=\"red\", ax=axs[1, 0])\n",
    "chart.set_xticklabels(chart.get_xticklabels(), rotation=20, horizontalalignment='right')\n",
    "\n",
    "chart = sns.countplot(x=df['Region'], color=\"red\", ax=axs[1, 1])\n",
    "chart.set_xticklabels(chart.get_xticklabels(), rotation=20, horizontalalignment='right')\n",
    "\n",
    "chart = sns.countplot(x=df['Category'], color=\"red\", ax=axs[1, 2])\n",
    "chart.set_xticklabels(chart.get_xticklabels(), rotation=20, horizontalalignment='right')\n",
    "\n",
    "chart = sns.countplot(x=df['Sub_Category'], color=\"red\", ax=axs[1, 3])\n",
    "chart.set_xticklabels(chart.get_xticklabels(), rotation=20, horizontalalignment='right')\n",
    "\n",
    "chart = sns.countplot(x=df['Product_Name'], color=\"red\", ax=axs[1, 4])\n",
    "chart.set_xticklabels(chart.get_xticklabels(), rotation=20, horizontalalignment='right')\n",
    "plt.show()"
   ]
  },
  {
   "cell_type": "raw",
   "id": "60979c03",
   "metadata": {},
   "source": [
    "# Plot binary histograms here\n",
    "binary = x=(np.where(df['Profit']) > 0, 1, 0)\n",
    "sns.set(font_scale=1)\n",
    "chart = sns.countplot(binary , color=\"red\", figsize=(12, 12))\n",
    "plt.show()"
   ]
  },
  {
   "cell_type": "code",
   "execution_count": 22,
   "id": "d7630508",
   "metadata": {},
   "outputs": [
    {
     "name": "stdout",
     "output_type": "stream",
     "text": [
      "There are 51290 Row ID values, and (51290, 24) Rows x Columns\n"
     ]
    }
   ],
   "source": [
    "# Make sure that there is one unqiue row ID for each row in the df before reindexing using Row ID \n",
    "print('There are',df['Row_ID'].nunique(),'Row ID values, and', df.shape, 'Rows x Columns')"
   ]
  },
  {
   "cell_type": "code",
   "execution_count": 25,
   "id": "aaf513a9",
   "metadata": {},
   "outputs": [
    {
     "name": "stdout",
     "output_type": "stream",
     "text": [
      "There are 1590 unique Customer IDs, and 795  unique Customer names\n"
     ]
    },
    {
     "data": {
      "text/html": [
       "<div>\n",
       "<style scoped>\n",
       "    .dataframe tbody tr th:only-of-type {\n",
       "        vertical-align: middle;\n",
       "    }\n",
       "\n",
       "    .dataframe tbody tr th {\n",
       "        vertical-align: top;\n",
       "    }\n",
       "\n",
       "    .dataframe thead th {\n",
       "        text-align: right;\n",
       "    }\n",
       "</style>\n",
       "<table border=\"1\" class=\"dataframe\">\n",
       "  <thead>\n",
       "    <tr style=\"text-align: right;\">\n",
       "      <th></th>\n",
       "      <th>Customer ID</th>\n",
       "      <th>#Customer IDs</th>\n",
       "    </tr>\n",
       "    <tr>\n",
       "      <th>Customer Name</th>\n",
       "      <th></th>\n",
       "      <th></th>\n",
       "    </tr>\n",
       "  </thead>\n",
       "  <tbody>\n",
       "    <tr>\n",
       "      <th>Erica Smith</th>\n",
       "      <td>['ES-14020' 'ES-4020']</td>\n",
       "      <td>2</td>\n",
       "    </tr>\n",
       "    <tr>\n",
       "      <th>Erin Ashbrook</th>\n",
       "      <td>['EA-14035' 'EA-4035']</td>\n",
       "      <td>2</td>\n",
       "    </tr>\n",
       "    <tr>\n",
       "      <th>Erin Creighton</th>\n",
       "      <td>['EC-14050' 'EC-4050']</td>\n",
       "      <td>2</td>\n",
       "    </tr>\n",
       "    <tr>\n",
       "      <th>Erin Mull</th>\n",
       "      <td>['EM-14065' 'EM-4065']</td>\n",
       "      <td>2</td>\n",
       "    </tr>\n",
       "    <tr>\n",
       "      <th>Zuschuss Donatelli</th>\n",
       "      <td>['ZD-21925' 'ZD-11925']</td>\n",
       "      <td>2</td>\n",
       "    </tr>\n",
       "  </tbody>\n",
       "</table>\n",
       "</div>"
      ],
      "text/plain": [
       "                                Customer ID  #Customer IDs\n",
       "Customer Name                                             \n",
       "Erica Smith          ['ES-14020' 'ES-4020']              2\n",
       "Erin Ashbrook        ['EA-14035' 'EA-4035']              2\n",
       "Erin Creighton       ['EC-14050' 'EC-4050']              2\n",
       "Erin Mull            ['EM-14065' 'EM-4065']              2\n",
       "Zuschuss Donatelli  ['ZD-21925' 'ZD-11925']              2"
      ]
     },
     "execution_count": 25,
     "metadata": {},
     "output_type": "execute_result"
    }
   ],
   "source": [
    "# How many customer ID's are there? How many customer Names?\n",
    "print('There are', df_copy['Customer ID'].nunique(), 'unique Customer IDs, and', \n",
    "      df_copy['Customer Name'].nunique(), ' unique Customer names')\n",
    "\n",
    "# There are only 795 Unique customers, each having 2 customer ID's that look similar \n",
    "\n",
    "group1 = pd.DataFrame(df_copy.groupby('Customer Name')['Customer ID'].unique())\n",
    "group1['Customer ID'] = group1['Customer ID'].astype('str')\n",
    "group1['#Customer IDs'] = group1['Customer ID'].str.split(' ').apply(len)\n",
    "\n",
    "customers  = group1.sort_values(by = ['#Customer IDs'], ascending = False)\n",
    "customers.tail()\n",
    "\n",
    "# It seems that there are two Customer ID's for each Name - Redundant "
   ]
  },
  {
   "cell_type": "markdown",
   "id": "302dd567",
   "metadata": {},
   "source": [
    "## Preprocessing"
   ]
  },
  {
   "cell_type": "code",
   "execution_count": 132,
   "id": "0e321595",
   "metadata": {},
   "outputs": [
    {
     "data": {
      "text/plain": [
       "Index(['Row_ID', 'Order_ID', 'Order_Date', 'Ship_Date', 'Ship_Mode',\n",
       "       'Customer_ID', 'Customer_Name', 'Segment', 'City', 'State', 'Country',\n",
       "       'Postal_Code', 'Market', 'Region', 'Product_ID', 'Category',\n",
       "       'Sub_Category', 'Product_Name', 'Sales', 'Quantity', 'Discount',\n",
       "       'Profit', 'Shipping_Cost', 'Order_Priority'],\n",
       "      dtype='object')"
      ]
     },
     "execution_count": 132,
     "metadata": {},
     "output_type": "execute_result"
    }
   ],
   "source": [
    "df.columns"
   ]
  },
  {
   "cell_type": "code",
   "execution_count": 161,
   "id": "3a3e7976",
   "metadata": {},
   "outputs": [],
   "source": [
    "# Feature Selection, comment out features to drop \n",
    "numeric = df[[\n",
    "    'Sales', \n",
    "    'Quantity', \n",
    "    'Discount',\n",
    "    'Profit', \n",
    "    'Shipping_Cost'\n",
    "]]\n",
    "\n",
    "ordinal = pd.DataFrame(df['Order_Priority'])\n",
    "\n",
    "categorical = df[[\n",
    "#    'Row_ID', \n",
    "#    'Order_ID', \n",
    "#    'Order_Date', \n",
    "#    'Ship_Date', \n",
    "#    'Ship_Mode',\n",
    "#    'Customer_ID', \n",
    "#    'Customer_Name', \n",
    "    'Segment', \n",
    "    'City', \n",
    "    'State', \n",
    "    'Country',\n",
    "#    'Postal_Code', \n",
    "    'Market', \n",
    "    'Region', \n",
    "#    'Product_ID', \n",
    "    'Category',\n",
    "    'Sub_Category', \n",
    "    'Product_Name'\n",
    "]]"
   ]
  },
  {
   "cell_type": "code",
   "execution_count": 141,
   "id": "09bec6dd",
   "metadata": {},
   "outputs": [
    {
     "data": {
      "text/html": [
       "<div>\n",
       "<style scoped>\n",
       "    .dataframe tbody tr th:only-of-type {\n",
       "        vertical-align: middle;\n",
       "    }\n",
       "\n",
       "    .dataframe tbody tr th {\n",
       "        vertical-align: top;\n",
       "    }\n",
       "\n",
       "    .dataframe thead th {\n",
       "        text-align: right;\n",
       "    }\n",
       "</style>\n",
       "<table border=\"1\" class=\"dataframe\">\n",
       "  <thead>\n",
       "    <tr style=\"text-align: right;\">\n",
       "      <th></th>\n",
       "      <th>Order_Priority</th>\n",
       "    </tr>\n",
       "  </thead>\n",
       "  <tbody>\n",
       "    <tr>\n",
       "      <th>0</th>\n",
       "      <td>4</td>\n",
       "    </tr>\n",
       "    <tr>\n",
       "      <th>1</th>\n",
       "      <td>4</td>\n",
       "    </tr>\n",
       "    <tr>\n",
       "      <th>2</th>\n",
       "      <td>3</td>\n",
       "    </tr>\n",
       "    <tr>\n",
       "      <th>3</th>\n",
       "      <td>3</td>\n",
       "    </tr>\n",
       "    <tr>\n",
       "      <th>4</th>\n",
       "      <td>4</td>\n",
       "    </tr>\n",
       "  </tbody>\n",
       "</table>\n",
       "</div>"
      ],
      "text/plain": [
       "   Order_Priority\n",
       "0               4\n",
       "1               4\n",
       "2               3\n",
       "3               3\n",
       "4               4"
      ]
     },
     "execution_count": 141,
     "metadata": {},
     "output_type": "execute_result"
    }
   ],
   "source": [
    "# Ordinal Encoding \n",
    "dict = {'Critical': 4, 'Medium' : 3, 'High' : 2, 'Low': 1}\n",
    "ordinal = ordinal.replace({'Order_Priority': dict})\n",
    "ordinal.head()"
   ]
  },
  {
   "cell_type": "code",
   "execution_count": 53,
   "id": "b3f8c270",
   "metadata": {},
   "outputs": [
    {
     "data": {
      "text/plain": [
       "Index(['Row_ID', 'Order_ID', 'Order_Date', 'Ship_Date', 'Ship_Mode',\n",
       "       'Customer_ID', 'Segment', 'City', 'State', 'Country', 'Market',\n",
       "       'Region', 'Product_ID', 'Category', 'Sub_Category', 'Product_Name',\n",
       "       'Sales', 'Quantity', 'Discount', 'Profit', 'Shipping_Cost',\n",
       "       'Order_Priority'],\n",
       "      dtype='object')"
      ]
     },
     "execution_count": 53,
     "metadata": {},
     "output_type": "execute_result"
    }
   ],
   "source": [
    "df.columns"
   ]
  },
  {
   "cell_type": "code",
   "execution_count": 151,
   "id": "334b6059",
   "metadata": {},
   "outputs": [
    {
     "data": {
      "text/html": [
       "<div>\n",
       "<style scoped>\n",
       "    .dataframe tbody tr th:only-of-type {\n",
       "        vertical-align: middle;\n",
       "    }\n",
       "\n",
       "    .dataframe tbody tr th {\n",
       "        vertical-align: top;\n",
       "    }\n",
       "\n",
       "    .dataframe thead th {\n",
       "        text-align: right;\n",
       "    }\n",
       "</style>\n",
       "<table border=\"1\" class=\"dataframe\">\n",
       "  <thead>\n",
       "    <tr style=\"text-align: right;\">\n",
       "      <th></th>\n",
       "      <th>Profitable</th>\n",
       "    </tr>\n",
       "  </thead>\n",
       "  <tbody>\n",
       "    <tr>\n",
       "      <th>0</th>\n",
       "      <td>1</td>\n",
       "    </tr>\n",
       "    <tr>\n",
       "      <th>1</th>\n",
       "      <td>0</td>\n",
       "    </tr>\n",
       "    <tr>\n",
       "      <th>2</th>\n",
       "      <td>1</td>\n",
       "    </tr>\n",
       "    <tr>\n",
       "      <th>3</th>\n",
       "      <td>0</td>\n",
       "    </tr>\n",
       "    <tr>\n",
       "      <th>4</th>\n",
       "      <td>1</td>\n",
       "    </tr>\n",
       "  </tbody>\n",
       "</table>\n",
       "</div>"
      ],
      "text/plain": [
       "   Profitable\n",
       "0           1\n",
       "1           0\n",
       "2           1\n",
       "3           0\n",
       "4           1"
      ]
     },
     "execution_count": 151,
     "metadata": {},
     "output_type": "execute_result"
    }
   ],
   "source": [
    "# create binary variable that = 1 if positive profit and = 0 if negative profit \n",
    "profitable = pd.DataFrame(np.where(df['Profit'] > 0, 1, 0), columns = ['Profitable'])\n",
    "profitable.head()"
   ]
  },
  {
   "cell_type": "code",
   "execution_count": 163,
   "id": "6705f0c0",
   "metadata": {},
   "outputs": [],
   "source": [
    "# categorical variables - dummy encode\n",
    "s1 = pd.get_dummies(categorical)\n",
    "\n",
    "#numerical variables - normalize \n",
    "s2 = pd.DataFrame(MinMaxScaler().fit_transform(numeric), columns = numeric.columns)\n",
    "\n",
    "# add target variables (no preprocessing)\n",
    "s3 = profitable "
   ]
  },
  {
   "cell_type": "code",
   "execution_count": 168,
   "id": "00a286fb",
   "metadata": {},
   "outputs": [
    {
     "data": {
      "text/html": [
       "<div>\n",
       "<style scoped>\n",
       "    .dataframe tbody tr th:only-of-type {\n",
       "        vertical-align: middle;\n",
       "    }\n",
       "\n",
       "    .dataframe tbody tr th {\n",
       "        vertical-align: top;\n",
       "    }\n",
       "\n",
       "    .dataframe thead th {\n",
       "        text-align: right;\n",
       "    }\n",
       "</style>\n",
       "<table border=\"1\" class=\"dataframe\">\n",
       "  <thead>\n",
       "    <tr style=\"text-align: right;\">\n",
       "      <th></th>\n",
       "      <th>Segment_Consumer</th>\n",
       "      <th>Segment_Corporate</th>\n",
       "      <th>Segment_Home Office</th>\n",
       "      <th>City_Aachen</th>\n",
       "      <th>City_Aalen</th>\n",
       "      <th>City_Aalst</th>\n",
       "      <th>City_Aba</th>\n",
       "      <th>City_Abadan</th>\n",
       "      <th>City_Abakaliki</th>\n",
       "      <th>City_Abbeville</th>\n",
       "      <th>...</th>\n",
       "      <th>Product_Name_iOttie HLCRIO102 Car Mount</th>\n",
       "      <th>Product_Name_iOttie XL Car Mount</th>\n",
       "      <th>Product_Name_invisibleSHIELD by ZAGG Smudge-Free Screen Protector</th>\n",
       "      <th>Product_Name_netTALK DUO VoIP Telephone Service</th>\n",
       "      <th>Sales</th>\n",
       "      <th>Quantity</th>\n",
       "      <th>Discount</th>\n",
       "      <th>Profit</th>\n",
       "      <th>Shipping_Cost</th>\n",
       "      <th>Profitable</th>\n",
       "    </tr>\n",
       "  </thead>\n",
       "  <tbody>\n",
       "    <tr>\n",
       "      <th>0</th>\n",
       "      <td>1</td>\n",
       "      <td>0</td>\n",
       "      <td>0</td>\n",
       "      <td>0</td>\n",
       "      <td>0</td>\n",
       "      <td>0</td>\n",
       "      <td>0</td>\n",
       "      <td>0</td>\n",
       "      <td>0</td>\n",
       "      <td>0</td>\n",
       "      <td>...</td>\n",
       "      <td>0</td>\n",
       "      <td>0</td>\n",
       "      <td>0</td>\n",
       "      <td>0</td>\n",
       "      <td>0.102006</td>\n",
       "      <td>0.461538</td>\n",
       "      <td>0.000000</td>\n",
       "      <td>0.490812</td>\n",
       "      <td>1.000000</td>\n",
       "      <td>1</td>\n",
       "    </tr>\n",
       "    <tr>\n",
       "      <th>1</th>\n",
       "      <td>0</td>\n",
       "      <td>1</td>\n",
       "      <td>0</td>\n",
       "      <td>0</td>\n",
       "      <td>0</td>\n",
       "      <td>0</td>\n",
       "      <td>0</td>\n",
       "      <td>0</td>\n",
       "      <td>0</td>\n",
       "      <td>0</td>\n",
       "      <td>...</td>\n",
       "      <td>0</td>\n",
       "      <td>0</td>\n",
       "      <td>0</td>\n",
       "      <td>0</td>\n",
       "      <td>0.163837</td>\n",
       "      <td>0.615385</td>\n",
       "      <td>0.117647</td>\n",
       "      <td>0.420749</td>\n",
       "      <td>0.989353</td>\n",
       "      <td>0</td>\n",
       "    </tr>\n",
       "    <tr>\n",
       "      <th>2</th>\n",
       "      <td>1</td>\n",
       "      <td>0</td>\n",
       "      <td>0</td>\n",
       "      <td>0</td>\n",
       "      <td>0</td>\n",
       "      <td>0</td>\n",
       "      <td>0</td>\n",
       "      <td>0</td>\n",
       "      <td>0</td>\n",
       "      <td>0</td>\n",
       "      <td>...</td>\n",
       "      <td>0</td>\n",
       "      <td>0</td>\n",
       "      <td>0</td>\n",
       "      <td>0</td>\n",
       "      <td>0.228586</td>\n",
       "      <td>0.615385</td>\n",
       "      <td>0.117647</td>\n",
       "      <td>0.501331</td>\n",
       "      <td>0.980633</td>\n",
       "      <td>1</td>\n",
       "    </tr>\n",
       "    <tr>\n",
       "      <th>3</th>\n",
       "      <td>0</td>\n",
       "      <td>0</td>\n",
       "      <td>1</td>\n",
       "      <td>0</td>\n",
       "      <td>0</td>\n",
       "      <td>0</td>\n",
       "      <td>0</td>\n",
       "      <td>0</td>\n",
       "      <td>0</td>\n",
       "      <td>0</td>\n",
       "      <td>...</td>\n",
       "      <td>0</td>\n",
       "      <td>0</td>\n",
       "      <td>0</td>\n",
       "      <td>0</td>\n",
       "      <td>0.127753</td>\n",
       "      <td>0.307692</td>\n",
       "      <td>0.117647</td>\n",
       "      <td>0.433564</td>\n",
       "      <td>0.974924</td>\n",
       "      <td>0</td>\n",
       "    </tr>\n",
       "    <tr>\n",
       "      <th>4</th>\n",
       "      <td>1</td>\n",
       "      <td>0</td>\n",
       "      <td>0</td>\n",
       "      <td>0</td>\n",
       "      <td>0</td>\n",
       "      <td>0</td>\n",
       "      <td>0</td>\n",
       "      <td>0</td>\n",
       "      <td>0</td>\n",
       "      <td>0</td>\n",
       "      <td>...</td>\n",
       "      <td>0</td>\n",
       "      <td>0</td>\n",
       "      <td>0</td>\n",
       "      <td>0</td>\n",
       "      <td>0.125122</td>\n",
       "      <td>0.538462</td>\n",
       "      <td>0.000000</td>\n",
       "      <td>0.460768</td>\n",
       "      <td>0.967298</td>\n",
       "      <td>1</td>\n",
       "    </tr>\n",
       "  </tbody>\n",
       "</table>\n",
       "<p>5 rows × 8714 columns</p>\n",
       "</div>"
      ],
      "text/plain": [
       "   Segment_Consumer  Segment_Corporate  Segment_Home Office  City_Aachen  \\\n",
       "0                 1                  0                    0            0   \n",
       "1                 0                  1                    0            0   \n",
       "2                 1                  0                    0            0   \n",
       "3                 0                  0                    1            0   \n",
       "4                 1                  0                    0            0   \n",
       "\n",
       "   City_Aalen  City_Aalst  City_Aba  City_Abadan  City_Abakaliki  \\\n",
       "0           0           0         0            0               0   \n",
       "1           0           0         0            0               0   \n",
       "2           0           0         0            0               0   \n",
       "3           0           0         0            0               0   \n",
       "4           0           0         0            0               0   \n",
       "\n",
       "   City_Abbeville  ...  Product_Name_iOttie HLCRIO102 Car Mount  \\\n",
       "0               0  ...                                        0   \n",
       "1               0  ...                                        0   \n",
       "2               0  ...                                        0   \n",
       "3               0  ...                                        0   \n",
       "4               0  ...                                        0   \n",
       "\n",
       "   Product_Name_iOttie XL Car Mount  \\\n",
       "0                                 0   \n",
       "1                                 0   \n",
       "2                                 0   \n",
       "3                                 0   \n",
       "4                                 0   \n",
       "\n",
       "   Product_Name_invisibleSHIELD by ZAGG Smudge-Free Screen Protector  \\\n",
       "0                                                  0                   \n",
       "1                                                  0                   \n",
       "2                                                  0                   \n",
       "3                                                  0                   \n",
       "4                                                  0                   \n",
       "\n",
       "   Product_Name_netTALK DUO VoIP Telephone Service     Sales  Quantity  \\\n",
       "0                                                0  0.102006  0.461538   \n",
       "1                                                0  0.163837  0.615385   \n",
       "2                                                0  0.228586  0.615385   \n",
       "3                                                0  0.127753  0.307692   \n",
       "4                                                0  0.125122  0.538462   \n",
       "\n",
       "   Discount    Profit  Shipping_Cost  Profitable  \n",
       "0  0.000000  0.490812       1.000000           1  \n",
       "1  0.117647  0.420749       0.989353           0  \n",
       "2  0.117647  0.501331       0.980633           1  \n",
       "3  0.117647  0.433564       0.974924           0  \n",
       "4  0.000000  0.460768       0.967298           1  \n",
       "\n",
       "[5 rows x 8714 columns]"
      ]
     },
     "execution_count": 168,
     "metadata": {},
     "output_type": "execute_result"
    }
   ],
   "source": [
    "# something is wrong with concat where I'm getting NA values, I think it has to do with the index \n",
    "df = (pd.concat([s1,s2, s3], axis = 1)).dropna()\n",
    "df.head()"
   ]
  },
  {
   "cell_type": "code",
   "execution_count": 169,
   "id": "c84a296e",
   "metadata": {},
   "outputs": [],
   "source": [
    "# Split into X/ Y \n",
    "X = df.drop(columns=['Profitable','Profit'])\n",
    "y = df['Profitable']   # classification target\n",
    "\n",
    "#Split into Train/Test - Regression \n",
    "X_train, X_valid, y_train, y_valid= train_test_split(X, y, test_size=0.2, random_state=47)"
   ]
  },
  {
   "cell_type": "code",
   "execution_count": 170,
   "id": "fa2588bd",
   "metadata": {},
   "outputs": [
    {
     "name": "stdout",
     "output_type": "stream",
     "text": [
      "training model score:0.9707789042698381\n",
      "test model score:0.9209397543380776\n"
     ]
    }
   ],
   "source": [
    "# Logistic Regression -  Classification \n",
    "logr = LogisticRegression(penalty = 'l2', C = 1e12, solver = 'liblinear').fit(X_train, y_train)\n",
    "\n",
    "# obtaining accuracy scores for logistic regression model \n",
    "print(f'training model score:{logr.score(X_train, y_train)}')\n",
    "print(f'test model score:{logr.score(X_valid, y_valid)}')\n",
    "#print('R2 Value:', r2_score(y_valid, logr.predict(X_train)))"
   ]
  },
  {
   "cell_type": "code",
   "execution_count": 171,
   "id": "d41cf80a",
   "metadata": {},
   "outputs": [],
   "source": [
    "# reassign y to classification target variable \n",
    "y = df_profit['Profit']"
   ]
  },
  {
   "cell_type": "code",
   "execution_count": 172,
   "id": "17d3fc28",
   "metadata": {},
   "outputs": [
    {
     "name": "stdout",
     "output_type": "stream",
     "text": [
      "training model score:0.7670143577053401\n",
      "test model score:-1.1751701625077276e+23\n"
     ]
    }
   ],
   "source": [
    "# Linear Regression -  Regression\n",
    "lr = LinearRegression().fit(X_train, y_train)\n",
    "\n",
    "# obtaining accuracy scores for logistic regression model \n",
    "print(f'training model score:{lr.score(X_train, y_train)}')\n",
    "print(f'test model score:{lr.score(X_valid, y_valid)}')\n",
    "#print('R2 Value:', r2_score(y_valid, lr.predict(X_train)))"
   ]
  },
  {
   "cell_type": "code",
   "execution_count": 173,
   "id": "5f9eab1c",
   "metadata": {},
   "outputs": [
    {
     "name": "stderr",
     "output_type": "stream",
     "text": [
      "/opt/anaconda3/lib/python3.8/site-packages/sklearn/svm/_base.py:301: ConvergenceWarning: Solver terminated early (max_iter=1000).  Consider pre-processing your data with StandardScaler or MinMaxScaler.\n",
      "  warnings.warn(\n"
     ]
    },
    {
     "name": "stdout",
     "output_type": "stream",
     "text": [
      "training model score:0.18353450932664783\n",
      "test model score:0.1848739846878681\n"
     ]
    }
   ],
   "source": [
    "# Support Vector Machine -  Regression\n",
    "svm = SVR(C = 2, kernel = 'linear', max_iter = 1000).fit(X_train, y_train)\n",
    "\n",
    "# obtaining accuracy scores for logistic regression model \n",
    "print(f'training model score:{svm.score(X_train, y_train)}')\n",
    "print(f'test model score:{svm.score(X_valid, y_valid)}')\n",
    "#print('R2 Value:',metrics.r2_score(y_valid, SVM.predict(X_train)))"
   ]
  },
  {
   "cell_type": "code",
   "execution_count": null,
   "id": "90833e11",
   "metadata": {},
   "outputs": [],
   "source": []
  }
 ],
 "metadata": {
  "kernelspec": {
   "display_name": "Python 3",
   "language": "python",
   "name": "python3"
  },
  "language_info": {
   "codemirror_mode": {
    "name": "ipython",
    "version": 3
   },
   "file_extension": ".py",
   "mimetype": "text/x-python",
   "name": "python",
   "nbconvert_exporter": "python",
   "pygments_lexer": "ipython3",
   "version": "3.8.8"
  }
 },
 "nbformat": 4,
 "nbformat_minor": 5
}
