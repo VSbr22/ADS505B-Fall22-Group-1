{
 "cells": [
  {
   "cell_type": "markdown",
   "id": "ae1d10a2",
   "metadata": {},
   "source": [
    "# ADS 505 - Final Team Project \n",
    "### George Garcia, Summer Purschke, Vannesa Salazar - ADS - 505 \n"
   ]
  },
  {
   "cell_type": "code",
   "execution_count": 1,
   "id": "3a5c9b62",
   "metadata": {},
   "outputs": [],
   "source": [
    "__author__ = 'George Garcia, Summer Purschke, Vannesa Salazar'\n",
    "__email__ = 'ggarcia@sandiego.edu, spurschke@sandiego.edu, vsalazar@sandiego.edu'\n",
    "__version__ = '1.0'\n",
    "__date__ = 'October 2022'"
   ]
  },
  {
   "cell_type": "markdown",
   "id": "c20d78a2",
   "metadata": {},
   "source": [
    "## Problem Statement \n",
    "\n",
    "Due to the Covid-19 pandemic and supply-chain related delays, profit and customer analysis is critical in the realm of E-commerce. The Global Superstore dataset contains 51290 rows of transaction data including customer, shipping, order, profit, and location information. Our goal, at a high level, was to explore this information and recommend actionable changes to improve aspects of the company. More specifically, our team focused on profit associated with products. With a dataset this complex, correlation between product and profit is not as straightforward as one may assume. Products have differing profit margins, in addition to purchase frequency, holding cost, shipping options, and wholesale order reliability. Our team took a machine learning approach to this problem by training predictive models to predict profitability of products in relation to the details surrounding each order. These models, which will be described in detail throughout this report, give Global Superstore the ability to choose which orders to fulfill to maximize their profit margins. "
   ]
  },
  {
   "cell_type": "markdown",
   "id": "795a84aa",
   "metadata": {},
   "source": [
    "## Setup  "
   ]
  },
  {
   "cell_type": "code",
   "execution_count": 2,
   "id": "bde8977d",
   "metadata": {},
   "outputs": [],
   "source": [
    "# pip install --upgrade anndata scanpy numpy scipy scikit-learn pandas matplotlib umap-learn h5py statsmodels"
   ]
  },
  {
   "cell_type": "code",
   "execution_count": 3,
   "id": "d6f1d9d7",
   "metadata": {},
   "outputs": [],
   "source": [
    "# Basics\n",
    "import pandas as pd\n",
    "import numpy as np\n",
    "import seaborn as sns\n",
    "import scipy\n",
    "\n",
    "# Visualization\n",
    "import matplotlib.pylab as plt\n",
    "%matplotlib inline\n",
    "\n",
    "# Modeling\n",
    "import statsmodels.formula.api as sm\n",
    "import statsmodels.tools.tools as stattools\n",
    "from scipy.stats import skew\n",
    "\n",
    "from dmba import regressionSummary, exhaustive_search\n",
    "from dmba import backward_elimination, forward_selection, stepwise_selection\n",
    "from dmba import adjusted_r2_score, AIC_score, BIC_score\n",
    "from dmba import plotDecisionTree, gainsChart, liftChart\n",
    "from dmba import classificationSummary, regressionSummary\n",
    "\n",
    "from sklearn.linear_model import LinearRegression, Lasso, Ridge, LassoCV, BayesianRidge, SGDRegressor\n",
    "from sklearn.linear_model import LogisticRegression, LogisticRegressionCV\n",
    "from sklearn.svm import SVR\n",
    "from sklearn.impute import SimpleImputer\n",
    "from sklearn import tree\n",
    "from sklearn.tree import plot_tree\n",
    "from sklearn.ensemble import RandomForestClassifier\n",
    "from sklearn.model_selection import train_test_split, GridSearchCV, KFold, cross_val_score\n",
    "from sklearn.tree import DecisionTreeClassifier, DecisionTreeRegressor, export_graphviz, plot_tree\n",
    "from sklearn import preprocessing\n",
    "from sklearn.metrics import confusion_matrix\n",
    "from sklearn.neighbors import KNeighborsClassifier\n",
    "from sklearn.metrics import f1_score, precision_score, recall_score, accuracy_score, confusion_matrix,r2_score\n",
    "from sklearn.preprocessing import OrdinalEncoder, StandardScaler, MinMaxScaler\n",
    "from sklearn import metrics\n",
    "\n",
    "from wsgiref.simple_server import WSGIRequestHandler\n",
    "\n",
    "# Set basic options for consistent output\n",
    "PRECISION = 2\n",
    "np.set_printoptions(precision = PRECISION)\n",
    "pd.set_option('display.float_format', lambda x: '%.2f' % x)\n",
    "pd.set_option('display.precision', PRECISION)\n",
    "pd.set_option('display.width', 1000)\n",
    "pd.set_option('display.colheader_justify', 'center')\n",
    "\n",
    "# Set Matplotlib defaults for consistent visualization look 'n' feel\n",
    "FONTSIZE_S = 10\n",
    "FONTSIZE_M = 12\n",
    "FONTSIZE_L = 14\n",
    "plt.style.use('default')\n",
    "plt.rcParams['figure.titlesize'] = FONTSIZE_L\n",
    "plt.rcParams['figure.figsize'] = (9, 9 / (16 / 9))\n",
    "plt.rcParams['figure.subplot.left'] = '0.1'\n",
    "plt.rcParams['figure.subplot.bottom'] = '0.1'\n",
    "plt.rcParams['figure.subplot.top'] = '0.9'\n",
    "plt.rcParams['figure.subplot.wspace'] = '0.4'\n",
    "plt.rcParams['lines.linewidth'] = '2'\n",
    "plt.rcParams['axes.linewidth'] = '2'\n",
    "plt.rcParams['axes.titlesize'] = '8'\n",
    "#plt.rcParams['axes.titleweight'] = 'bold'\n",
    "plt.rcParams['axes.labelsize'] = FONTSIZE_M\n",
    "plt.rcParams['xtick.labelsize'] = FONTSIZE_S\n",
    "plt.rcParams['ytick.labelsize'] = FONTSIZE_S\n",
    "plt.rcParams['grid.linewidth'] = '1'\n",
    "plt.rcParams['legend.fontsize'] = FONTSIZE_S\n",
    "plt.rcParams['legend.title_fontsize'] = FONTSIZE_S"
   ]
  },
  {
   "cell_type": "markdown",
   "id": "2dee79cc",
   "metadata": {},
   "source": [
    "## Load Data from Github Repository \n",
    "https://github.com/VSbr22/ADS505B-Fall22-Group-1"
   ]
  },
  {
   "cell_type": "code",
   "execution_count": 4,
   "id": "3368ae88",
   "metadata": {},
   "outputs": [
    {
     "data": {
      "text/html": [
       "<div>\n",
       "<style scoped>\n",
       "    .dataframe tbody tr th:only-of-type {\n",
       "        vertical-align: middle;\n",
       "    }\n",
       "\n",
       "    .dataframe tbody tr th {\n",
       "        vertical-align: top;\n",
       "    }\n",
       "\n",
       "    .dataframe thead th {\n",
       "        text-align: right;\n",
       "    }\n",
       "</style>\n",
       "<table border=\"1\" class=\"dataframe\">\n",
       "  <thead>\n",
       "    <tr style=\"text-align: center;\">\n",
       "      <th></th>\n",
       "      <th>Row ID</th>\n",
       "      <th>Order ID</th>\n",
       "      <th>Order Date</th>\n",
       "      <th>Ship Date</th>\n",
       "      <th>Ship Mode</th>\n",
       "      <th>Customer ID</th>\n",
       "      <th>Customer Name</th>\n",
       "      <th>Segment</th>\n",
       "      <th>City</th>\n",
       "      <th>State</th>\n",
       "      <th>...</th>\n",
       "      <th>Product ID</th>\n",
       "      <th>Category</th>\n",
       "      <th>Sub-Category</th>\n",
       "      <th>Product Name</th>\n",
       "      <th>Sales</th>\n",
       "      <th>Quantity</th>\n",
       "      <th>Discount</th>\n",
       "      <th>Profit</th>\n",
       "      <th>Shipping Cost</th>\n",
       "      <th>Order Priority</th>\n",
       "    </tr>\n",
       "  </thead>\n",
       "  <tbody>\n",
       "    <tr>\n",
       "      <th>0</th>\n",
       "      <td>32298</td>\n",
       "      <td>CA-2012-124891</td>\n",
       "      <td>31-07-2012</td>\n",
       "      <td>31-07-2012</td>\n",
       "      <td>Same Day</td>\n",
       "      <td>RH-19495</td>\n",
       "      <td>Rick Hansen</td>\n",
       "      <td>Consumer</td>\n",
       "      <td>New York City</td>\n",
       "      <td>New York</td>\n",
       "      <td>...</td>\n",
       "      <td>TEC-AC-10003033</td>\n",
       "      <td>Technology</td>\n",
       "      <td>Accessories</td>\n",
       "      <td>Plantronics CS510 - Over-the-Head monaural Wir...</td>\n",
       "      <td>2309.65</td>\n",
       "      <td>7</td>\n",
       "      <td>0.00</td>\n",
       "      <td>762.18</td>\n",
       "      <td>933.57</td>\n",
       "      <td>Critical</td>\n",
       "    </tr>\n",
       "    <tr>\n",
       "      <th>1</th>\n",
       "      <td>26341</td>\n",
       "      <td>IN-2013-77878</td>\n",
       "      <td>05-02-2013</td>\n",
       "      <td>07-02-2013</td>\n",
       "      <td>Second Class</td>\n",
       "      <td>JR-16210</td>\n",
       "      <td>Justin Ritter</td>\n",
       "      <td>Corporate</td>\n",
       "      <td>Wollongong</td>\n",
       "      <td>New South Wales</td>\n",
       "      <td>...</td>\n",
       "      <td>FUR-CH-10003950</td>\n",
       "      <td>Furniture</td>\n",
       "      <td>Chairs</td>\n",
       "      <td>Novimex Executive Leather Armchair, Black</td>\n",
       "      <td>3709.39</td>\n",
       "      <td>9</td>\n",
       "      <td>0.10</td>\n",
       "      <td>-288.76</td>\n",
       "      <td>923.63</td>\n",
       "      <td>Critical</td>\n",
       "    </tr>\n",
       "  </tbody>\n",
       "</table>\n",
       "<p>2 rows × 24 columns</p>\n",
       "</div>"
      ],
      "text/plain": [
       "   Row ID     Order ID     Order Date  Ship Date    Ship Mode   Customer ID Customer Name   Segment        City           State        ...    Product ID      Category  Sub-Category                    Product Name                     Sales  Quantity Discount  Profit  Shipping Cost  Order Priority\n",
       "0   32298  CA-2012-124891  31-07-2012  31-07-2012      Same Day   RH-19495     Rick Hansen   Consumer  New York City         New York  ...  TEC-AC-10003033  Technology  Accessories  Plantronics CS510 - Over-the-Head monaural Wir... 2309.65     7      0.00    762.18     933.57         Critical   \n",
       "1   26341   IN-2013-77878  05-02-2013  07-02-2013  Second Class   JR-16210   Justin Ritter  Corporate     Wollongong  New South Wales  ...  FUR-CH-10003950   Furniture       Chairs          Novimex Executive Leather Armchair, Black 3709.39     9      0.10   -288.76     923.63         Critical   \n",
       "\n",
       "[2 rows x 24 columns]"
      ]
     },
     "execution_count": 4,
     "metadata": {},
     "output_type": "execute_result"
    }
   ],
   "source": [
    "df= pd.read_csv('/Users/vannesasalazar/Documents/ADS505/Group Project/Global_Superstore2.csv')\n",
    "df.head(2)"
   ]
  },
  {
   "cell_type": "markdown",
   "id": "71365082",
   "metadata": {},
   "source": [
    "## Format data \n",
    "For easier data manipulation, the dataset is formatted so that column names are consistent and will not cause errors within a pandas dataframe. Features are coerced into the correct data types for analysis. "
   ]
  },
  {
   "cell_type": "code",
   "execution_count": 5,
   "id": "16edbc83",
   "metadata": {},
   "outputs": [],
   "source": [
    "# Format column names\n",
    "df.columns = [d.replace(' ', '_') for d in df.columns]\n",
    "df.columns = [d.replace('-', '_') for d in df.columns]"
   ]
  },
  {
   "cell_type": "code",
   "execution_count": 6,
   "id": "65493355",
   "metadata": {},
   "outputs": [],
   "source": [
    "# Format data and time \n",
    "df['Order_Date'] = pd.to_datetime(df['Order_Date'], infer_datetime_format=True)\n",
    "df['Ship_Date'] = pd.to_datetime(df['Ship_Date'], infer_datetime_format=True)"
   ]
  },
  {
   "cell_type": "code",
   "execution_count": 7,
   "id": "f6647dd5",
   "metadata": {},
   "outputs": [],
   "source": [
    "# Change data types as needed\n",
    "df['Ship_Mode']= df['Ship_Mode'].astype('category')\n",
    "df['Segment']= df['Segment'].astype('category')\n",
    "df['Country']= df['Country'].astype('category')\n",
    "df['Market']= df['Market'].astype('category')\n",
    "df['Region']= df['Region'].astype('category')\n",
    "df['Category']= df['Category'].astype('category')\n",
    "df['Sub_Category']= df['Sub_Category'].astype('category')\n",
    "df['Order_Priority']= df['Order_Priority'].astype('category')"
   ]
  },
  {
   "cell_type": "markdown",
   "id": "c5a90e1c",
   "metadata": {},
   "source": [
    "## Explore Data"
   ]
  },
  {
   "cell_type": "code",
   "execution_count": 8,
   "id": "47be61a0",
   "metadata": {},
   "outputs": [
    {
     "name": "stdout",
     "output_type": "stream",
     "text": [
      "<class 'pandas.core.frame.DataFrame'>\n",
      "RangeIndex: 51290 entries, 0 to 51289\n",
      "Data columns (total 24 columns):\n",
      " #   Column          Non-Null Count  Dtype         \n",
      "---  ------          --------------  -----         \n",
      " 0   Row_ID          51290 non-null  int64         \n",
      " 1   Order_ID        51290 non-null  object        \n",
      " 2   Order_Date      51290 non-null  datetime64[ns]\n",
      " 3   Ship_Date       51290 non-null  datetime64[ns]\n",
      " 4   Ship_Mode       51290 non-null  category      \n",
      " 5   Customer_ID     51290 non-null  object        \n",
      " 6   Customer_Name   51290 non-null  object        \n",
      " 7   Segment         51290 non-null  category      \n",
      " 8   City            51290 non-null  object        \n",
      " 9   State           51290 non-null  object        \n",
      " 10  Country         51290 non-null  category      \n",
      " 11  Postal_Code     9994 non-null   float64       \n",
      " 12  Market          51290 non-null  category      \n",
      " 13  Region          51290 non-null  category      \n",
      " 14  Product_ID      51290 non-null  object        \n",
      " 15  Category        51290 non-null  category      \n",
      " 16  Sub_Category    51290 non-null  category      \n",
      " 17  Product_Name    51290 non-null  object        \n",
      " 18  Sales           51290 non-null  float64       \n",
      " 19  Quantity        51290 non-null  int64         \n",
      " 20  Discount        51290 non-null  float64       \n",
      " 21  Profit          51290 non-null  float64       \n",
      " 22  Shipping_Cost   51290 non-null  float64       \n",
      " 23  Order_Priority  51290 non-null  category      \n",
      "dtypes: category(8), datetime64[ns](2), float64(5), int64(2), object(7)\n",
      "memory usage: 6.7+ MB\n"
     ]
    }
   ],
   "source": [
    "df.info()"
   ]
  },
  {
   "cell_type": "code",
   "execution_count": 9,
   "id": "3f588fce",
   "metadata": {
    "scrolled": false
   },
   "outputs": [
    {
     "data": {
      "text/html": [
       "<div>\n",
       "<style scoped>\n",
       "    .dataframe tbody tr th:only-of-type {\n",
       "        vertical-align: middle;\n",
       "    }\n",
       "\n",
       "    .dataframe tbody tr th {\n",
       "        vertical-align: top;\n",
       "    }\n",
       "\n",
       "    .dataframe thead th {\n",
       "        text-align: right;\n",
       "    }\n",
       "</style>\n",
       "<table border=\"1\" class=\"dataframe\">\n",
       "  <thead>\n",
       "    <tr style=\"text-align: center;\">\n",
       "      <th></th>\n",
       "      <th>Row_ID</th>\n",
       "      <th>Postal_Code</th>\n",
       "      <th>Sales</th>\n",
       "      <th>Quantity</th>\n",
       "      <th>Discount</th>\n",
       "      <th>Profit</th>\n",
       "      <th>Shipping_Cost</th>\n",
       "    </tr>\n",
       "  </thead>\n",
       "  <tbody>\n",
       "    <tr>\n",
       "      <th>count</th>\n",
       "      <td>51290.00</td>\n",
       "      <td>9994.00</td>\n",
       "      <td>51290.00</td>\n",
       "      <td>51290.00</td>\n",
       "      <td>51290.00</td>\n",
       "      <td>51290.00</td>\n",
       "      <td>51290.00</td>\n",
       "    </tr>\n",
       "    <tr>\n",
       "      <th>mean</th>\n",
       "      <td>25645.50</td>\n",
       "      <td>55190.38</td>\n",
       "      <td>246.49</td>\n",
       "      <td>3.48</td>\n",
       "      <td>0.14</td>\n",
       "      <td>28.61</td>\n",
       "      <td>26.38</td>\n",
       "    </tr>\n",
       "    <tr>\n",
       "      <th>std</th>\n",
       "      <td>14806.29</td>\n",
       "      <td>32063.69</td>\n",
       "      <td>487.57</td>\n",
       "      <td>2.28</td>\n",
       "      <td>0.21</td>\n",
       "      <td>174.34</td>\n",
       "      <td>57.30</td>\n",
       "    </tr>\n",
       "    <tr>\n",
       "      <th>min</th>\n",
       "      <td>1.00</td>\n",
       "      <td>1040.00</td>\n",
       "      <td>0.44</td>\n",
       "      <td>1.00</td>\n",
       "      <td>0.00</td>\n",
       "      <td>-6599.98</td>\n",
       "      <td>0.00</td>\n",
       "    </tr>\n",
       "    <tr>\n",
       "      <th>25%</th>\n",
       "      <td>12823.25</td>\n",
       "      <td>23223.00</td>\n",
       "      <td>30.76</td>\n",
       "      <td>2.00</td>\n",
       "      <td>0.00</td>\n",
       "      <td>0.00</td>\n",
       "      <td>2.61</td>\n",
       "    </tr>\n",
       "    <tr>\n",
       "      <th>50%</th>\n",
       "      <td>25645.50</td>\n",
       "      <td>56430.50</td>\n",
       "      <td>85.05</td>\n",
       "      <td>3.00</td>\n",
       "      <td>0.00</td>\n",
       "      <td>9.24</td>\n",
       "      <td>7.79</td>\n",
       "    </tr>\n",
       "    <tr>\n",
       "      <th>75%</th>\n",
       "      <td>38467.75</td>\n",
       "      <td>90008.00</td>\n",
       "      <td>251.05</td>\n",
       "      <td>5.00</td>\n",
       "      <td>0.20</td>\n",
       "      <td>36.81</td>\n",
       "      <td>24.45</td>\n",
       "    </tr>\n",
       "    <tr>\n",
       "      <th>max</th>\n",
       "      <td>51290.00</td>\n",
       "      <td>99301.00</td>\n",
       "      <td>22638.48</td>\n",
       "      <td>14.00</td>\n",
       "      <td>0.85</td>\n",
       "      <td>8399.98</td>\n",
       "      <td>933.57</td>\n",
       "    </tr>\n",
       "  </tbody>\n",
       "</table>\n",
       "</div>"
      ],
      "text/plain": [
       "       Row_ID   Postal_Code   Sales   Quantity  Discount  Profit   Shipping_Cost\n",
       "count 51290.00    9994.00   51290.00  51290.00  51290.00 51290.00    51290.00   \n",
       "mean  25645.50   55190.38     246.49      3.48      0.14    28.61       26.38   \n",
       "std   14806.29   32063.69     487.57      2.28      0.21   174.34       57.30   \n",
       "min       1.00    1040.00       0.44      1.00      0.00 -6599.98        0.00   \n",
       "25%   12823.25   23223.00      30.76      2.00      0.00     0.00        2.61   \n",
       "50%   25645.50   56430.50      85.05      3.00      0.00     9.24        7.79   \n",
       "75%   38467.75   90008.00     251.05      5.00      0.20    36.81       24.45   \n",
       "max   51290.00   99301.00   22638.48     14.00      0.85  8399.98      933.57   "
      ]
     },
     "execution_count": 9,
     "metadata": {},
     "output_type": "execute_result"
    }
   ],
   "source": [
    "df.describe()"
   ]
  },
  {
   "cell_type": "code",
   "execution_count": 10,
   "id": "e7175e27",
   "metadata": {},
   "outputs": [
    {
     "name": "stdout",
     "output_type": "stream",
     "text": [
      "Sales Skew: 8.137842017336732\n",
      "Quantity Skew: 1.3603279457897046\n",
      "Discount Skew: 1.3877339656893208\n",
      "Profit Skew: 4.157066952869827\n",
      "Shipping Cost Skew: 5.863054951522988\n"
     ]
    }
   ],
   "source": [
    "# Skewed predictors\n",
    "print('Sales Skew:', skew(df['Sales'], axis = 0, bias = True ))\n",
    "print('Quantity Skew:', skew(df['Quantity'], axis = 0, bias = True ))\n",
    "print('Discount Skew:', skew(df['Discount'], axis = 0, bias = True ))\n",
    "print('Profit Skew:', skew(df['Profit'], axis = 0, bias = True ))\n",
    "print('Shipping Cost Skew:', skew(df['Shipping_Cost'], axis = 0, bias = True ))"
   ]
  },
  {
   "cell_type": "code",
   "execution_count": 11,
   "id": "984c3dcc",
   "metadata": {},
   "outputs": [
    {
     "data": {
      "text/plain": [
       "Row_ID                0\n",
       "Order_ID              0\n",
       "Order_Date            0\n",
       "Ship_Date             0\n",
       "Ship_Mode             0\n",
       "Customer_ID           0\n",
       "Customer_Name         0\n",
       "Segment               0\n",
       "City                  0\n",
       "State                 0\n",
       "Country               0\n",
       "Postal_Code       41296\n",
       "Market                0\n",
       "Region                0\n",
       "Product_ID            0\n",
       "Category              0\n",
       "Sub_Category          0\n",
       "Product_Name          0\n",
       "Sales                 0\n",
       "Quantity              0\n",
       "Discount              0\n",
       "Profit                0\n",
       "Shipping_Cost         0\n",
       "Order_Priority        0\n",
       "dtype: int64"
      ]
     },
     "execution_count": 11,
     "metadata": {},
     "output_type": "execute_result"
    }
   ],
   "source": [
    "# Missing values\n",
    "df.isnull().sum(axis = 0)"
   ]
  },
  {
   "cell_type": "code",
   "execution_count": 12,
   "id": "e36fbf02",
   "metadata": {},
   "outputs": [
    {
     "name": "stderr",
     "output_type": "stream",
     "text": [
      "/var/folders/5_/tllj2d8s5md8mp1n3qryzzhh0000gn/T/ipykernel_9358/304467740.py:2: FutureWarning: The default value of numeric_only in DataFrameGroupBy.sum is deprecated. In a future version, numeric_only will default to False. Either specify numeric_only or select only columns which should be valid for the function.\n",
      "  df.groupby(['Product_Name']).sum()[['Profit']].nsmallest(n=5, columns=['Profit'])\n"
     ]
    },
    {
     "data": {
      "text/html": [
       "<div>\n",
       "<style scoped>\n",
       "    .dataframe tbody tr th:only-of-type {\n",
       "        vertical-align: middle;\n",
       "    }\n",
       "\n",
       "    .dataframe tbody tr th {\n",
       "        vertical-align: top;\n",
       "    }\n",
       "\n",
       "    .dataframe thead th {\n",
       "        text-align: right;\n",
       "    }\n",
       "</style>\n",
       "<table border=\"1\" class=\"dataframe\">\n",
       "  <thead>\n",
       "    <tr style=\"text-align: center;\">\n",
       "      <th></th>\n",
       "      <th>Profit</th>\n",
       "    </tr>\n",
       "    <tr>\n",
       "      <th>Product_Name</th>\n",
       "      <th></th>\n",
       "    </tr>\n",
       "  </thead>\n",
       "  <tbody>\n",
       "    <tr>\n",
       "      <th>Cubify CubeX 3D Printer Double Head Print</th>\n",
       "      <td>-8879.97</td>\n",
       "    </tr>\n",
       "    <tr>\n",
       "      <th>Lexmark MX611dhe Monochrome Laser Printer</th>\n",
       "      <td>-4589.97</td>\n",
       "    </tr>\n",
       "    <tr>\n",
       "      <th>Motorola Smart Phone, Cordless</th>\n",
       "      <td>-4447.04</td>\n",
       "    </tr>\n",
       "    <tr>\n",
       "      <th>Cubify CubeX 3D Printer Triple Head Print</th>\n",
       "      <td>-3839.99</td>\n",
       "    </tr>\n",
       "    <tr>\n",
       "      <th>Bevis Round Table, Adjustable Height</th>\n",
       "      <td>-3649.89</td>\n",
       "    </tr>\n",
       "  </tbody>\n",
       "</table>\n",
       "</div>"
      ],
      "text/plain": [
       "                                           Profit \n",
       "Product_Name                                      \n",
       "Cubify CubeX 3D Printer Double Head Print -8879.97\n",
       "Lexmark MX611dhe Monochrome Laser Printer -4589.97\n",
       "Motorola Smart Phone, Cordless            -4447.04\n",
       "Cubify CubeX 3D Printer Triple Head Print -3839.99\n",
       "Bevis Round Table, Adjustable Height      -3649.89"
      ]
     },
     "execution_count": 12,
     "metadata": {},
     "output_type": "execute_result"
    }
   ],
   "source": [
    "# Least profitable products\n",
    "df.groupby(['Product_Name']).sum()[['Profit']].nsmallest(n=5, columns=['Profit'])"
   ]
  },
  {
   "cell_type": "code",
   "execution_count": 13,
   "id": "b1c38c17",
   "metadata": {},
   "outputs": [
    {
     "name": "stderr",
     "output_type": "stream",
     "text": [
      "/var/folders/5_/tllj2d8s5md8mp1n3qryzzhh0000gn/T/ipykernel_9358/1721411242.py:2: FutureWarning: The default value of numeric_only in DataFrameGroupBy.sum is deprecated. In a future version, numeric_only will default to False. Either specify numeric_only or select only columns which should be valid for the function.\n",
      "  df.groupby(['Product_Name']).sum()[['Profit']].nlargest(n=5, columns=['Profit'])\n"
     ]
    },
    {
     "data": {
      "text/html": [
       "<div>\n",
       "<style scoped>\n",
       "    .dataframe tbody tr th:only-of-type {\n",
       "        vertical-align: middle;\n",
       "    }\n",
       "\n",
       "    .dataframe tbody tr th {\n",
       "        vertical-align: top;\n",
       "    }\n",
       "\n",
       "    .dataframe thead th {\n",
       "        text-align: right;\n",
       "    }\n",
       "</style>\n",
       "<table border=\"1\" class=\"dataframe\">\n",
       "  <thead>\n",
       "    <tr style=\"text-align: center;\">\n",
       "      <th></th>\n",
       "      <th>Profit</th>\n",
       "    </tr>\n",
       "    <tr>\n",
       "      <th>Product_Name</th>\n",
       "      <th></th>\n",
       "    </tr>\n",
       "  </thead>\n",
       "  <tbody>\n",
       "    <tr>\n",
       "      <th>Canon imageCLASS 2200 Advanced Copier</th>\n",
       "      <td>25199.93</td>\n",
       "    </tr>\n",
       "    <tr>\n",
       "      <th>Cisco Smart Phone, Full Size</th>\n",
       "      <td>17238.52</td>\n",
       "    </tr>\n",
       "    <tr>\n",
       "      <th>Motorola Smart Phone, Full Size</th>\n",
       "      <td>17027.11</td>\n",
       "    </tr>\n",
       "    <tr>\n",
       "      <th>Hoover Stove, Red</th>\n",
       "      <td>11807.97</td>\n",
       "    </tr>\n",
       "    <tr>\n",
       "      <th>Sauder Classic Bookcase, Traditional</th>\n",
       "      <td>10672.07</td>\n",
       "    </tr>\n",
       "  </tbody>\n",
       "</table>\n",
       "</div>"
      ],
      "text/plain": [
       "                                       Profit \n",
       "Product_Name                                  \n",
       "Canon imageCLASS 2200 Advanced Copier 25199.93\n",
       "Cisco Smart Phone, Full Size          17238.52\n",
       "Motorola Smart Phone, Full Size       17027.11\n",
       "Hoover Stove, Red                     11807.97\n",
       "Sauder Classic Bookcase, Traditional  10672.07"
      ]
     },
     "execution_count": 13,
     "metadata": {},
     "output_type": "execute_result"
    }
   ],
   "source": [
    "# Most profitable products\n",
    "df.groupby(['Product_Name']).sum()[['Profit']].nlargest(n=5, columns=['Profit'])"
   ]
  },
  {
   "cell_type": "code",
   "execution_count": 14,
   "id": "cfb32451",
   "metadata": {},
   "outputs": [],
   "source": [
    "# # Proportion of Profitable to Non-Profitable \n",
    "# df.groupby(['Product_Name']).sum()[['Profit']]\n",
    "\n",
    "# p = len(df.groupby(['Product_Name']).sum()[['Profit']].query('Profit > 0'))\n",
    "# np = len(df.groupby(['Product_Name']).sum()[['Profit']].query('Profit <=0'))\n",
    "\n",
    "# prop = round((p/(p+np)) *100, 2)\n",
    "\n",
    "# print(prop, '% of products are profitable')"
   ]
  },
  {
   "cell_type": "code",
   "execution_count": 15,
   "id": "9c3a40da",
   "metadata": {
    "scrolled": true
   },
   "outputs": [
    {
     "name": "stdout",
     "output_type": "stream",
     "text": [
      "Average Profit of profitable products\n",
      "Profit   551.90\n",
      "dtype: float64\n",
      "Number of Unprofitable products: Profit    680\n",
      "dtype: int64\n"
     ]
    },
    {
     "name": "stderr",
     "output_type": "stream",
     "text": [
      "/var/folders/5_/tllj2d8s5md8mp1n3qryzzhh0000gn/T/ipykernel_9358/269765817.py:2: FutureWarning: The default value of numeric_only in DataFrameGroupBy.sum is deprecated. In a future version, numeric_only will default to False. Either specify numeric_only or select only columns which should be valid for the function.\n",
      "  loss = df.groupby(['Product_Name']).sum()[['Profit']].query('Profit <=0').sum()\n",
      "/var/folders/5_/tllj2d8s5md8mp1n3qryzzhh0000gn/T/ipykernel_9358/269765817.py:3: FutureWarning: The default value of numeric_only in DataFrameGroupBy.sum is deprecated. In a future version, numeric_only will default to False. Either specify numeric_only or select only columns which should be valid for the function.\n",
      "  gain = df.groupby(['Product_Name']).sum()[['Profit']].query('Profit > 0').sum()\n",
      "/var/folders/5_/tllj2d8s5md8mp1n3qryzzhh0000gn/T/ipykernel_9358/269765817.py:7: FutureWarning: The default value of numeric_only in DataFrameGroupBy.sum is deprecated. In a future version, numeric_only will default to False. Either specify numeric_only or select only columns which should be valid for the function.\n",
      "  print(df.groupby(['Product_Name']).sum()[['Profit']].query('Profit > 0').mean())\n",
      "/var/folders/5_/tllj2d8s5md8mp1n3qryzzhh0000gn/T/ipykernel_9358/269765817.py:10: FutureWarning: The default value of numeric_only in DataFrameGroupBy.sum is deprecated. In a future version, numeric_only will default to False. Either specify numeric_only or select only columns which should be valid for the function.\n",
      "  df.groupby(['Product_Name']).sum()[['Profit']].query('Profit <= 0').count())\n"
     ]
    }
   ],
   "source": [
    "# Total loss from non profitable products \n",
    "loss = df.groupby(['Product_Name']).sum()[['Profit']].query('Profit <=0').sum()\n",
    "gain = df.groupby(['Product_Name']).sum()[['Profit']].query('Profit > 0').sum()\n",
    "loss, gain\n",
    "\n",
    "print('Average Profit of profitable products')\n",
    "print(df.groupby(['Product_Name']).sum()[['Profit']].query('Profit > 0').mean())\n",
    "\n",
    "print('Number of Unprofitable products:', \n",
    "      df.groupby(['Product_Name']).sum()[['Profit']].query('Profit <= 0').count())"
   ]
  },
  {
   "cell_type": "code",
   "execution_count": 16,
   "id": "d8692004",
   "metadata": {},
   "outputs": [
    {
     "name": "stderr",
     "output_type": "stream",
     "text": [
      "/var/folders/5_/tllj2d8s5md8mp1n3qryzzhh0000gn/T/ipykernel_9358/239680151.py:1: FutureWarning: The default value of numeric_only in DataFrameGroupBy.sum is deprecated. In a future version, numeric_only will default to False. Either specify numeric_only or select only columns which should be valid for the function.\n",
      "  a = (df.groupby(['Product_Name']).sum()[['Profit']]).sort_values(by = 'Profit')\n"
     ]
    },
    {
     "data": {
      "text/plain": [
       "Text(0.5, 1.0, 'Profit Distribution for Global Superstore Products')"
      ]
     },
     "execution_count": 16,
     "metadata": {},
     "output_type": "execute_result"
    },
    {
     "data": {
      "image/png": "[encoded data removed]",
      "text/plain": [
       "<Figure size 900x506.25 with 1 Axes>"
      ]
     },
     "metadata": {},
     "output_type": "display_data"
    }
   ],
   "source": [
    "a = (df.groupby(['Product_Name']).sum()[['Profit']]).sort_values(by = 'Profit')\n",
    "\n",
    "plt.hist(a)\n",
    "plt.yticks()\n",
    "plt.xlabel('Profit', fontsize=12)\n",
    "plt.ylabel('Number of Products', fontsize=10)\n",
    "plt.title('Profit Distribution for Global Superstore Products', fontsize=15)"
   ]
  },
  {
   "cell_type": "markdown",
   "id": "c3430679",
   "metadata": {},
   "source": [
    "### The above cells show us that only 82% of products are profitable, meaning that about 682 products cause a loss in profit the majority of the time. By eliminating these products, and replacing them with products that profit (on average) the same as other products we can recover $374,680 in lost value. "
   ]
  },
  {
   "cell_type": "code",
   "execution_count": 17,
   "id": "806efe2d",
   "metadata": {},
   "outputs": [
    {
     "name": "stdout",
     "output_type": "stream",
     "text": [
      "There are 10292 unique product IDs, and 3788  unique product names\n"
     ]
    },
    {
     "data": {
      "text/html": [
       "<div>\n",
       "<style scoped>\n",
       "    .dataframe tbody tr th:only-of-type {\n",
       "        vertical-align: middle;\n",
       "    }\n",
       "\n",
       "    .dataframe tbody tr th {\n",
       "        vertical-align: top;\n",
       "    }\n",
       "\n",
       "    .dataframe thead th {\n",
       "        text-align: right;\n",
       "    }\n",
       "</style>\n",
       "<table border=\"1\" class=\"dataframe\">\n",
       "  <thead>\n",
       "    <tr style=\"text-align: center;\">\n",
       "      <th></th>\n",
       "      <th>Product_ID</th>\n",
       "      <th>#Product_IDs</th>\n",
       "    </tr>\n",
       "    <tr>\n",
       "      <th>Product_Name</th>\n",
       "      <th></th>\n",
       "      <th></th>\n",
       "    </tr>\n",
       "  </thead>\n",
       "  <tbody>\n",
       "    <tr>\n",
       "      <th>Staples</th>\n",
       "      <td>['OFF-EN-10004773' 'OFF-EN-10003286' 'OFF-PA-1...</td>\n",
       "      <td>46</td>\n",
       "    </tr>\n",
       "    <tr>\n",
       "      <th>Stockwell Paper Clips, Assorted Sizes</th>\n",
       "      <td>['OFF-FA-10002017' 'OFF-FA-10004265' 'OFF-FA-1...</td>\n",
       "      <td>16</td>\n",
       "    </tr>\n",
       "    <tr>\n",
       "      <th>Acco Index Tab, Clear</th>\n",
       "      <td>['OFF-BI-10002738' 'OFF-BI-10002386' 'OFF-BI-1...</td>\n",
       "      <td>12</td>\n",
       "    </tr>\n",
       "    <tr>\n",
       "      <th>HP Copy Machine, Color</th>\n",
       "      <td>['TEC-CO-10004563' 'TEC-CO-10003901' 'TEC-HP -...</td>\n",
       "      <td>12</td>\n",
       "    </tr>\n",
       "    <tr>\n",
       "      <th>Stockwell Push Pins, 12 Pack</th>\n",
       "      <td>['OFF-FA-10002577' 'OFF-FA-10002790' 'OFF-FA-1...</td>\n",
       "      <td>11</td>\n",
       "    </tr>\n",
       "  </tbody>\n",
       "</table>\n",
       "</div>"
      ],
      "text/plain": [
       "                                                          Product_ID                      #Product_IDs\n",
       "Product_Name                                                                                          \n",
       "Staples                                ['OFF-EN-10004773' 'OFF-EN-10003286' 'OFF-PA-1...       46     \n",
       "Stockwell Paper Clips, Assorted Sizes  ['OFF-FA-10002017' 'OFF-FA-10004265' 'OFF-FA-1...       16     \n",
       "Acco Index Tab, Clear                  ['OFF-BI-10002738' 'OFF-BI-10002386' 'OFF-BI-1...       12     \n",
       "HP Copy Machine, Color                 ['TEC-CO-10004563' 'TEC-CO-10003901' 'TEC-HP -...       12     \n",
       "Stockwell Push Pins, 12 Pack           ['OFF-FA-10002577' 'OFF-FA-10002790' 'OFF-FA-1...       11     "
      ]
     },
     "execution_count": 17,
     "metadata": {},
     "output_type": "execute_result"
    }
   ],
   "source": [
    "# How many product ID's are there? How many Product Names?\n",
    "print('There are', df['Product_ID'].nunique(), 'unique product IDs, and', \n",
    "      df['Product_Name'].nunique(), ' unique product names')\n",
    "\n",
    "group = pd.DataFrame(df.groupby('Product_Name')['Product_ID'].unique())\n",
    "group['Product_ID'] = group['Product_ID'].astype('str')\n",
    "group['#Product_IDs'] = group['Product_ID'].str.split(' ').apply(len)\n",
    "\n",
    "products  = group.sort_values(by = ['#Product_IDs'], ascending = False)\n",
    "products.head()"
   ]
  },
  {
   "cell_type": "code",
   "execution_count": 18,
   "id": "03f74f74",
   "metadata": {},
   "outputs": [
    {
     "name": "stdout",
     "output_type": "stream",
     "text": [
      "There are 1590 unique Customer IDs, and 795  unique Customer names\n",
      "2.0\n"
     ]
    }
   ],
   "source": [
    "# How many customer ID's are there? How many customer Names?\n",
    "print('There are', df['Customer_ID'].nunique(), 'unique Customer IDs, and', \n",
    "      df['Customer_Name'].nunique(), ' unique Customer names')\n",
    "\n",
    "group1 = pd.DataFrame(df.groupby('Customer_Name')['Customer_ID'].unique())\n",
    "group1['Customer_ID'] = group1['Customer_ID'].astype('str')\n",
    "group1['#Customer_IDs'] = group1['Customer_ID'].str.split(' ').apply(len)\n",
    "\n",
    "customers  = group1.sort_values(by = ['#Customer_IDs'], ascending = False)\n",
    "print(customers['#Customer_IDs'].mean())\n",
    "# It seems that there are two Customer ID's for each Name - Redundant "
   ]
  },
  {
   "cell_type": "markdown",
   "id": "bb4fd48f",
   "metadata": {},
   "source": [
    "## Data Visualization"
   ]
  },
  {
   "cell_type": "code",
   "execution_count": 19,
   "id": "342434d6",
   "metadata": {},
   "outputs": [],
   "source": [
    "# Feature Selection, comment out features to drop \n",
    "numeric = df[[\n",
    "    'Sales', \n",
    "    'Quantity', \n",
    "    'Discount',\n",
    "    'Profit', \n",
    "    'Shipping_Cost'\n",
    "]]\n",
    "\n",
    "ordinal = pd.DataFrame(df['Order_Priority'])\n",
    "\n",
    "categorical = df[[\n",
    "#    'Row_ID', \n",
    "#    'Order_ID', \n",
    "#    'Order_Date', \n",
    "#    'Ship_Date', \n",
    "#    'Ship_Mode',\n",
    "#    'Customer_ID', \n",
    "#    'Customer_Name', \n",
    "    'Segment', \n",
    "    'City', \n",
    "    'State', \n",
    "    'Country',\n",
    "#    'Postal_Code', \n",
    "    'Market', \n",
    "    'Region', \n",
    "#    'Product_ID', \n",
    "    'Category',\n",
    "    'Sub_Category', \n",
    "    'Product_Name'\n",
    "]]"
   ]
  },
  {
   "cell_type": "code",
   "execution_count": 20,
   "id": "272c264f",
   "metadata": {},
   "outputs": [
    {
     "data": {
      "image/png": "[encoded data removed]",
      "text/plain": [
       "<Figure size 1400x1400 with 6 Axes>"
      ]
     },
     "metadata": {},
     "output_type": "display_data"
    }
   ],
   "source": [
    "# Numeric histograms \n",
    "numeric.hist(figsize=(14,14), xrot=45)\n",
    "plt.show()"
   ]
  },
  {
   "cell_type": "code",
   "execution_count": 21,
   "id": "dd70801d",
   "metadata": {
    "scrolled": true
   },
   "outputs": [],
   "source": [
    "# Categorical Count plots \n",
    "for column in df.select_dtypes(include='object'):\n",
    "    if df[column].nunique() < 10:\n",
    "        sns.countplot(y=column, data=df)\n",
    "        plt.show()"
   ]
  },
  {
   "cell_type": "code",
   "execution_count": 22,
   "id": "ed729057",
   "metadata": {},
   "outputs": [],
   "source": [
    "# Categorical Box plots\n",
    "for column in df.select_dtypes(include='object'):\n",
    "    if df[column].nunique() < 10:\n",
    "        sns.boxplot(y=column, x='Profit', data=df) \n",
    "        plt.show()"
   ]
  },
  {
   "cell_type": "code",
   "execution_count": 23,
   "id": "e4cf0d9b",
   "metadata": {},
   "outputs": [
    {
     "data": {
      "text/plain": [
       "<AxesSubplot: >"
      ]
     },
     "execution_count": 23,
     "metadata": {},
     "output_type": "execute_result"
    },
    {
     "data": {
      "image/png": "[encoded data removed]",
      "text/plain": [
       "<Figure size 900x506.25 with 2 Axes>"
      ]
     },
     "metadata": {},
     "output_type": "display_data"
    }
   ],
   "source": [
    "# Correlations among numeric predictors \n",
    "sns.heatmap(numeric.corr(), annot = True, cmap= 'coolwarm')"
   ]
  },
  {
   "cell_type": "markdown",
   "id": "bfa1cd75",
   "metadata": {},
   "source": [
    "## Data Preprocessing"
   ]
  },
  {
   "cell_type": "markdown",
   "id": "d5c0df23",
   "metadata": {},
   "source": [
    "Data is prepared for analysis in varying ways based on the type of data. The ordinal feature Order_priority was encoded, numeric values were normalized using MinMaxScaler(), and categorical features were dummy encoded. Once all respective preprocessing was complete the features were merged back into a complete dataframe using the pandas concat function. The code block above the visualizations allows users to select which features are included in modeling by commenting out whichever features should be dropped. "
   ]
  },
  {
   "cell_type": "code",
   "execution_count": 24,
   "id": "4b867d8a",
   "metadata": {},
   "outputs": [
    {
     "data": {
      "text/html": [
       "<div>\n",
       "<style scoped>\n",
       "    .dataframe tbody tr th:only-of-type {\n",
       "        vertical-align: middle;\n",
       "    }\n",
       "\n",
       "    .dataframe tbody tr th {\n",
       "        vertical-align: top;\n",
       "    }\n",
       "\n",
       "    .dataframe thead th {\n",
       "        text-align: right;\n",
       "    }\n",
       "</style>\n",
       "<table border=\"1\" class=\"dataframe\">\n",
       "  <thead>\n",
       "    <tr style=\"text-align: center;\">\n",
       "      <th></th>\n",
       "      <th>Order_Priority</th>\n",
       "    </tr>\n",
       "  </thead>\n",
       "  <tbody>\n",
       "    <tr>\n",
       "      <th>0</th>\n",
       "      <td>4</td>\n",
       "    </tr>\n",
       "    <tr>\n",
       "      <th>1</th>\n",
       "      <td>4</td>\n",
       "    </tr>\n",
       "  </tbody>\n",
       "</table>\n",
       "</div>"
      ],
      "text/plain": [
       "  Order_Priority\n",
       "0        4      \n",
       "1        4      "
      ]
     },
     "execution_count": 24,
     "metadata": {},
     "output_type": "execute_result"
    }
   ],
   "source": [
    "# Ordinal Encoding \n",
    "dict = {'Critical': 4, 'Medium' : 3, 'High' : 2, 'Low': 1}\n",
    "ordinal = ordinal.replace({'Order_Priority': dict})\n",
    "ordinal.head(2)"
   ]
  },
  {
   "cell_type": "code",
   "execution_count": 25,
   "id": "d1f34941",
   "metadata": {},
   "outputs": [
    {
     "data": {
      "text/html": [
       "<div>\n",
       "<style scoped>\n",
       "    .dataframe tbody tr th:only-of-type {\n",
       "        vertical-align: middle;\n",
       "    }\n",
       "\n",
       "    .dataframe tbody tr th {\n",
       "        vertical-align: top;\n",
       "    }\n",
       "\n",
       "    .dataframe thead th {\n",
       "        text-align: right;\n",
       "    }\n",
       "</style>\n",
       "<table border=\"1\" class=\"dataframe\">\n",
       "  <thead>\n",
       "    <tr style=\"text-align: center;\">\n",
       "      <th></th>\n",
       "      <th>Profitable</th>\n",
       "    </tr>\n",
       "  </thead>\n",
       "  <tbody>\n",
       "    <tr>\n",
       "      <th>0</th>\n",
       "      <td>1</td>\n",
       "    </tr>\n",
       "    <tr>\n",
       "      <th>1</th>\n",
       "      <td>0</td>\n",
       "    </tr>\n",
       "    <tr>\n",
       "      <th>2</th>\n",
       "      <td>1</td>\n",
       "    </tr>\n",
       "    <tr>\n",
       "      <th>3</th>\n",
       "      <td>0</td>\n",
       "    </tr>\n",
       "    <tr>\n",
       "      <th>4</th>\n",
       "      <td>1</td>\n",
       "    </tr>\n",
       "  </tbody>\n",
       "</table>\n",
       "</div>"
      ],
      "text/plain": [
       "   Profitable\n",
       "0       1    \n",
       "1       0    \n",
       "2       1    \n",
       "3       0    \n",
       "4       1    "
      ]
     },
     "execution_count": 25,
     "metadata": {},
     "output_type": "execute_result"
    }
   ],
   "source": [
    "# create binary variable that = 1 if positive profit and = 0 if negative profit \n",
    "profitable = pd.DataFrame(np.where(df['Profit'] > 0, 1, 0), columns = ['Profitable'])\n",
    "profitable.head()"
   ]
  },
  {
   "cell_type": "code",
   "execution_count": 26,
   "id": "a2d93b7f",
   "metadata": {},
   "outputs": [],
   "source": [
    "# categorical variables - dummy encode\n",
    "s1 = pd.get_dummies(categorical)\n",
    "\n",
    "#numerical variables - normalize \n",
    "s2 = pd.DataFrame(MinMaxScaler().fit_transform(numeric), columns = numeric.columns)\n",
    "\n",
    "# # create binary variable that = 1 if positive profit and = 0 if negative profit \n",
    "s3 = pd.DataFrame(np.where(df['Profit'] > 0, 1, 0), columns = ['Profitable'])"
   ]
  },
  {
   "cell_type": "code",
   "execution_count": 27,
   "id": "56a010f2",
   "metadata": {},
   "outputs": [
    {
     "data": {
      "text/html": [
       "<div>\n",
       "<style scoped>\n",
       "    .dataframe tbody tr th:only-of-type {\n",
       "        vertical-align: middle;\n",
       "    }\n",
       "\n",
       "    .dataframe tbody tr th {\n",
       "        vertical-align: top;\n",
       "    }\n",
       "\n",
       "    .dataframe thead th {\n",
       "        text-align: right;\n",
       "    }\n",
       "</style>\n",
       "<table border=\"1\" class=\"dataframe\">\n",
       "  <thead>\n",
       "    <tr style=\"text-align: center;\">\n",
       "      <th></th>\n",
       "      <th>Segment_Consumer</th>\n",
       "      <th>Segment_Corporate</th>\n",
       "      <th>Segment_Home Office</th>\n",
       "      <th>City_Aachen</th>\n",
       "      <th>City_Aalen</th>\n",
       "      <th>City_Aalst</th>\n",
       "      <th>City_Aba</th>\n",
       "      <th>City_Abadan</th>\n",
       "      <th>City_Abakaliki</th>\n",
       "      <th>City_Abbeville</th>\n",
       "      <th>...</th>\n",
       "      <th>Product_Name_iOttie HLCRIO102 Car Mount</th>\n",
       "      <th>Product_Name_iOttie XL Car Mount</th>\n",
       "      <th>Product_Name_invisibleSHIELD by ZAGG Smudge-Free Screen Protector</th>\n",
       "      <th>Product_Name_netTALK DUO VoIP Telephone Service</th>\n",
       "      <th>Sales</th>\n",
       "      <th>Quantity</th>\n",
       "      <th>Discount</th>\n",
       "      <th>Profit</th>\n",
       "      <th>Shipping_Cost</th>\n",
       "      <th>Profitable</th>\n",
       "    </tr>\n",
       "  </thead>\n",
       "  <tbody>\n",
       "    <tr>\n",
       "      <th>0</th>\n",
       "      <td>1</td>\n",
       "      <td>0</td>\n",
       "      <td>0</td>\n",
       "      <td>0</td>\n",
       "      <td>0</td>\n",
       "      <td>0</td>\n",
       "      <td>0</td>\n",
       "      <td>0</td>\n",
       "      <td>0</td>\n",
       "      <td>0</td>\n",
       "      <td>...</td>\n",
       "      <td>0</td>\n",
       "      <td>0</td>\n",
       "      <td>0</td>\n",
       "      <td>0</td>\n",
       "      <td>0.10</td>\n",
       "      <td>0.46</td>\n",
       "      <td>0.00</td>\n",
       "      <td>0.49</td>\n",
       "      <td>1.00</td>\n",
       "      <td>1</td>\n",
       "    </tr>\n",
       "    <tr>\n",
       "      <th>1</th>\n",
       "      <td>0</td>\n",
       "      <td>1</td>\n",
       "      <td>0</td>\n",
       "      <td>0</td>\n",
       "      <td>0</td>\n",
       "      <td>0</td>\n",
       "      <td>0</td>\n",
       "      <td>0</td>\n",
       "      <td>0</td>\n",
       "      <td>0</td>\n",
       "      <td>...</td>\n",
       "      <td>0</td>\n",
       "      <td>0</td>\n",
       "      <td>0</td>\n",
       "      <td>0</td>\n",
       "      <td>0.16</td>\n",
       "      <td>0.62</td>\n",
       "      <td>0.12</td>\n",
       "      <td>0.42</td>\n",
       "      <td>0.99</td>\n",
       "      <td>0</td>\n",
       "    </tr>\n",
       "    <tr>\n",
       "      <th>2</th>\n",
       "      <td>1</td>\n",
       "      <td>0</td>\n",
       "      <td>0</td>\n",
       "      <td>0</td>\n",
       "      <td>0</td>\n",
       "      <td>0</td>\n",
       "      <td>0</td>\n",
       "      <td>0</td>\n",
       "      <td>0</td>\n",
       "      <td>0</td>\n",
       "      <td>...</td>\n",
       "      <td>0</td>\n",
       "      <td>0</td>\n",
       "      <td>0</td>\n",
       "      <td>0</td>\n",
       "      <td>0.23</td>\n",
       "      <td>0.62</td>\n",
       "      <td>0.12</td>\n",
       "      <td>0.50</td>\n",
       "      <td>0.98</td>\n",
       "      <td>1</td>\n",
       "    </tr>\n",
       "    <tr>\n",
       "      <th>3</th>\n",
       "      <td>0</td>\n",
       "      <td>0</td>\n",
       "      <td>1</td>\n",
       "      <td>0</td>\n",
       "      <td>0</td>\n",
       "      <td>0</td>\n",
       "      <td>0</td>\n",
       "      <td>0</td>\n",
       "      <td>0</td>\n",
       "      <td>0</td>\n",
       "      <td>...</td>\n",
       "      <td>0</td>\n",
       "      <td>0</td>\n",
       "      <td>0</td>\n",
       "      <td>0</td>\n",
       "      <td>0.13</td>\n",
       "      <td>0.31</td>\n",
       "      <td>0.12</td>\n",
       "      <td>0.43</td>\n",
       "      <td>0.97</td>\n",
       "      <td>0</td>\n",
       "    </tr>\n",
       "    <tr>\n",
       "      <th>4</th>\n",
       "      <td>1</td>\n",
       "      <td>0</td>\n",
       "      <td>0</td>\n",
       "      <td>0</td>\n",
       "      <td>0</td>\n",
       "      <td>0</td>\n",
       "      <td>0</td>\n",
       "      <td>0</td>\n",
       "      <td>0</td>\n",
       "      <td>0</td>\n",
       "      <td>...</td>\n",
       "      <td>0</td>\n",
       "      <td>0</td>\n",
       "      <td>0</td>\n",
       "      <td>0</td>\n",
       "      <td>0.13</td>\n",
       "      <td>0.54</td>\n",
       "      <td>0.00</td>\n",
       "      <td>0.46</td>\n",
       "      <td>0.97</td>\n",
       "      <td>1</td>\n",
       "    </tr>\n",
       "  </tbody>\n",
       "</table>\n",
       "<p>5 rows × 8714 columns</p>\n",
       "</div>"
      ],
      "text/plain": [
       "   Segment_Consumer  Segment_Corporate  Segment_Home Office  City_Aachen  City_Aalen  City_Aalst  City_Aba  City_Abadan  City_Abakaliki  City_Abbeville  ...  Product_Name_iOttie HLCRIO102 Car Mount  Product_Name_iOttie XL Car Mount  Product_Name_invisibleSHIELD by ZAGG Smudge-Free Screen Protector  Product_Name_netTALK DUO VoIP Telephone Service  Sales  Quantity  Discount  Profit  Shipping_Cost  Profitable\n",
       "0          1                 0                   0                0            0           0          0          0              0               0        ...                     0                                     0                                         0                                                                 0                         0.10     0.46      0.00     0.49       1.00            1    \n",
       "1          0                 1                   0                0            0           0          0          0              0               0        ...                     0                                     0                                         0                                                                 0                         0.16     0.62      0.12     0.42       0.99            0    \n",
       "2          1                 0                   0                0            0           0          0          0              0               0        ...                     0                                     0                                         0                                                                 0                         0.23     0.62      0.12     0.50       0.98            1    \n",
       "3          0                 0                   1                0            0           0          0          0              0               0        ...                     0                                     0                                         0                                                                 0                         0.13     0.31      0.12     0.43       0.97            0    \n",
       "4          1                 0                   0                0            0           0          0          0              0               0        ...                     0                                     0                                         0                                                                 0                         0.13     0.54      0.00     0.46       0.97            1    \n",
       "\n",
       "[5 rows x 8714 columns]"
      ]
     },
     "execution_count": 27,
     "metadata": {},
     "output_type": "execute_result"
    }
   ],
   "source": [
    "# Add together chosen and preprocessed features\n",
    "df = (pd.concat([s1,s2, s3], axis = 1)).dropna()\n",
    "df.head()"
   ]
  },
  {
   "cell_type": "markdown",
   "id": "d87a26a2",
   "metadata": {},
   "source": [
    "## Modeling"
   ]
  },
  {
   "cell_type": "markdown",
   "id": "09a7692e",
   "metadata": {},
   "source": [
    "Our goal is to predict whether or not a product is worth selling, based on the expected profit or loss. To find if a product is worth selling, predictive models were built and tested based on predictive accuracy. Those models with initial accuracy worth exploring were tuned via hyper parameter tuning to improve predictive performance. Ultimately, our team decided to move forward with CHOSEN MODEL, based on it's performance and interpretability. The use of predictive modeling in this application will help stakeholders decide if future product opportunites are likely to bring in a profit or loss in revenue. "
   ]
  },
  {
   "cell_type": "markdown",
   "id": "e74ab4bb",
   "metadata": {},
   "source": [
    "## Classification - Predicting if an occurrence is or is not profitable "
   ]
  },
  {
   "cell_type": "code",
   "execution_count": 28,
   "id": "d7f23543",
   "metadata": {},
   "outputs": [],
   "source": [
    "# Split into X/ Y \n",
    "X = df.drop(columns=['Profitable','Profit'])\n",
    "yc = df['Profitable']   # regression target\n",
    "yr = df['Profit']       # classification target\n",
    "\n",
    "#Split into Train/Test - Regression and Classification\n",
    "Xr_train, Xr_valid, yr_train, yr_valid= train_test_split(X, yr, test_size=0.2, random_state=47)\n",
    "Xc_train, Xc_valid, yc_train, yc_valid= train_test_split(X, yc, test_size=0.2, random_state=47)"
   ]
  },
  {
   "cell_type": "markdown",
   "id": "24083ccb",
   "metadata": {},
   "source": [
    "### Logistic Regression "
   ]
  },
  {
   "cell_type": "code",
   "execution_count": 29,
   "id": "3e7bbe46",
   "metadata": {},
   "outputs": [
    {
     "name": "stdout",
     "output_type": "stream",
     "text": [
      "training model score:0.9708032754922987\n",
      "test model score:0.9205498147787093\n"
     ]
    }
   ],
   "source": [
    "# Logistic Regression - Classification\n",
    "logr = LogisticRegression(penalty = 'l2', C = 1e12, solver = 'liblinear').fit(Xc_train, yc_train)\n",
    "\n",
    "# obtaining accuracy scores for logistic regression model \n",
    "print(f'training model score:{logr.score(Xc_train, yc_train)}')\n",
    "print(f'test model score:{logr.score(Xc_valid, yc_valid)}')"
   ]
  },
  {
   "cell_type": "markdown",
   "id": "b0ca87e2",
   "metadata": {},
   "source": [
    "### K-Nearest Neighbor"
   ]
  },
  {
   "cell_type": "code",
   "execution_count": 30,
   "id": "2d547732",
   "metadata": {},
   "outputs": [
    {
     "name": "stdout",
     "output_type": "stream",
     "text": [
      "Accuracy of model at K=4 is 0.9011503217001364\n"
     ]
    }
   ],
   "source": [
    "k = 4\n",
    "knn = KNeighborsClassifier(n_neighbors = k).fit(Xc_train, yc_train)\n",
    "pred_y = knn.predict(Xc_valid)\n",
    "print(\"Accuracy of model at K=4 is\",metrics.accuracy_score(yc_valid, pred_y))"
   ]
  },
  {
   "cell_type": "code",
   "execution_count": 31,
   "id": "40ad7ac0",
   "metadata": {},
   "outputs": [
    {
     "name": "stdout",
     "output_type": "stream",
     "text": [
      "Accuracy of model at K=5 is 0.9103139013452914\n"
     ]
    }
   ],
   "source": [
    "knn = KNeighborsClassifier(n_neighbors=5)\n",
    "knn.fit(Xc_train, yc_train)\n",
    "pred_y = knn.predict(Xc_valid)\n",
    "print(\"Accuracy of model at K=5 is\",metrics.accuracy_score(yc_valid, pred_y))"
   ]
  },
  {
   "cell_type": "code",
   "execution_count": 32,
   "id": "4dcfcdfc",
   "metadata": {},
   "outputs": [
    {
     "name": "stdout",
     "output_type": "stream",
     "text": [
      "[0.9  0.91 0.91 0.91 0.91 0.92 0.91 0.92 0.91 0.91]\n"
     ]
    }
   ],
   "source": [
    "scores = cross_val_score(knn, Xc_train, yc_train, cv=10, scoring='accuracy')\n",
    "print(scores)"
   ]
  },
  {
   "cell_type": "code",
   "execution_count": 33,
   "id": "453f936c",
   "metadata": {},
   "outputs": [
    {
     "name": "stdout",
     "output_type": "stream",
     "text": [
      "0.911654579043813\n"
     ]
    }
   ],
   "source": [
    "print(scores.mean())"
   ]
  },
  {
   "cell_type": "code",
   "execution_count": null,
   "id": "6160efb0",
   "metadata": {},
   "outputs": [],
   "source": [
    "k_range = range(1, 20)\n",
    "k_scores = []\n",
    "for k in k_range:\n",
    "    knn = KNeighborsClassifier(n_neighbors=k)\n",
    "    scores = cross_val_score(knn, X_train, y_train, cv=10,\n",
    "                             scoring='accuracy')\n",
    "    k_scores.append(scores.mean())\n",
    "print(k_scores)"
   ]
  },
  {
   "cell_type": "code",
   "execution_count": null,
   "id": "70cdb1e2",
   "metadata": {},
   "outputs": [],
   "source": [
    "# plot value of K for KNN versus the cross-validated accuracy.\n",
    "plt.plot(r_range, k_scores)\n",
    "plt.xlabel('Value of K for KNN')\n",
    "plt.ylabl('Cross-Validated Accuracy')\n"
   ]
  },
  {
   "cell_type": "markdown",
   "id": "1bbb2ec5",
   "metadata": {},
   "source": [
    "## Regression - Predicting Profit Value "
   ]
  },
  {
   "cell_type": "markdown",
   "id": "26cb223a",
   "metadata": {},
   "source": [
    "### Support Vector Machine"
   ]
  },
  {
   "cell_type": "code",
   "execution_count": 35,
   "id": "84454f3c",
   "metadata": {},
   "outputs": [
    {
     "name": "stderr",
     "output_type": "stream",
     "text": [
      "/Users/vannesasalazar/opt/anaconda3/lib/python3.9/site-packages/sklearn/svm/_base.py:301: ConvergenceWarning: Solver terminated early (max_iter=1000).  Consider pre-processing your data with StandardScaler or MinMaxScaler.\n",
      "  warnings.warn(\n"
     ]
    },
    {
     "name": "stdout",
     "output_type": "stream",
     "text": [
      "training model score:-9.778150347063889\n",
      "test model score:-14.582610482981037\n"
     ]
    }
   ],
   "source": [
    "# Support Vector Machine -  Regression\n",
    "svm = SVR(C = 2, kernel = 'linear', max_iter = 1000).fit(Xr_train, yr_train)\n",
    "\n",
    "# obtaining accuracy scores for logistic regression model \n",
    "print(f'training model score:{svm.score(Xr_train, yr_train)}')\n",
    "print(f'test model score:{svm.score(Xr_valid, yr_valid)}')"
   ]
  },
  {
   "cell_type": "code",
   "execution_count": 36,
   "id": "318959a5",
   "metadata": {},
   "outputs": [
    {
     "data": {
      "text/html": [
       "<div>\n",
       "<style scoped>\n",
       "    .dataframe tbody tr th:only-of-type {\n",
       "        vertical-align: middle;\n",
       "    }\n",
       "\n",
       "    .dataframe tbody tr th {\n",
       "        vertical-align: top;\n",
       "    }\n",
       "\n",
       "    .dataframe thead th {\n",
       "        text-align: right;\n",
       "    }\n",
       "</style>\n",
       "<table border=\"1\" class=\"dataframe\">\n",
       "  <thead>\n",
       "    <tr style=\"text-align: center;\">\n",
       "      <th></th>\n",
       "      <th>Segment_Consumer</th>\n",
       "      <th>Segment_Corporate</th>\n",
       "      <th>Segment_Home Office</th>\n",
       "      <th>City_Aachen</th>\n",
       "      <th>City_Aalen</th>\n",
       "      <th>City_Aalst</th>\n",
       "      <th>City_Aba</th>\n",
       "      <th>City_Abadan</th>\n",
       "      <th>City_Abakaliki</th>\n",
       "      <th>City_Abbeville</th>\n",
       "      <th>...</th>\n",
       "      <th>Product_Name_iOttie HLCRIO102 Car Mount</th>\n",
       "      <th>Product_Name_iOttie XL Car Mount</th>\n",
       "      <th>Product_Name_invisibleSHIELD by ZAGG Smudge-Free Screen Protector</th>\n",
       "      <th>Product_Name_netTALK DUO VoIP Telephone Service</th>\n",
       "      <th>Sales</th>\n",
       "      <th>Quantity</th>\n",
       "      <th>Discount</th>\n",
       "      <th>Profit</th>\n",
       "      <th>Shipping_Cost</th>\n",
       "      <th>Profitable</th>\n",
       "    </tr>\n",
       "  </thead>\n",
       "  <tbody>\n",
       "    <tr>\n",
       "      <th>0</th>\n",
       "      <td>1</td>\n",
       "      <td>0</td>\n",
       "      <td>0</td>\n",
       "      <td>0</td>\n",
       "      <td>0</td>\n",
       "      <td>0</td>\n",
       "      <td>0</td>\n",
       "      <td>0</td>\n",
       "      <td>0</td>\n",
       "      <td>0</td>\n",
       "      <td>...</td>\n",
       "      <td>0</td>\n",
       "      <td>0</td>\n",
       "      <td>0</td>\n",
       "      <td>0</td>\n",
       "      <td>0.10</td>\n",
       "      <td>0.46</td>\n",
       "      <td>0.00</td>\n",
       "      <td>0.49</td>\n",
       "      <td>1.00</td>\n",
       "      <td>1</td>\n",
       "    </tr>\n",
       "    <tr>\n",
       "      <th>2</th>\n",
       "      <td>1</td>\n",
       "      <td>0</td>\n",
       "      <td>0</td>\n",
       "      <td>0</td>\n",
       "      <td>0</td>\n",
       "      <td>0</td>\n",
       "      <td>0</td>\n",
       "      <td>0</td>\n",
       "      <td>0</td>\n",
       "      <td>0</td>\n",
       "      <td>...</td>\n",
       "      <td>0</td>\n",
       "      <td>0</td>\n",
       "      <td>0</td>\n",
       "      <td>0</td>\n",
       "      <td>0.23</td>\n",
       "      <td>0.62</td>\n",
       "      <td>0.12</td>\n",
       "      <td>0.50</td>\n",
       "      <td>0.98</td>\n",
       "      <td>1</td>\n",
       "    </tr>\n",
       "    <tr>\n",
       "      <th>4</th>\n",
       "      <td>1</td>\n",
       "      <td>0</td>\n",
       "      <td>0</td>\n",
       "      <td>0</td>\n",
       "      <td>0</td>\n",
       "      <td>0</td>\n",
       "      <td>0</td>\n",
       "      <td>0</td>\n",
       "      <td>0</td>\n",
       "      <td>0</td>\n",
       "      <td>...</td>\n",
       "      <td>0</td>\n",
       "      <td>0</td>\n",
       "      <td>0</td>\n",
       "      <td>0</td>\n",
       "      <td>0.13</td>\n",
       "      <td>0.54</td>\n",
       "      <td>0.00</td>\n",
       "      <td>0.46</td>\n",
       "      <td>0.97</td>\n",
       "      <td>1</td>\n",
       "    </tr>\n",
       "    <tr>\n",
       "      <th>5</th>\n",
       "      <td>0</td>\n",
       "      <td>1</td>\n",
       "      <td>0</td>\n",
       "      <td>0</td>\n",
       "      <td>0</td>\n",
       "      <td>0</td>\n",
       "      <td>0</td>\n",
       "      <td>0</td>\n",
       "      <td>0</td>\n",
       "      <td>0</td>\n",
       "      <td>...</td>\n",
       "      <td>0</td>\n",
       "      <td>0</td>\n",
       "      <td>0</td>\n",
       "      <td>0</td>\n",
       "      <td>0.13</td>\n",
       "      <td>0.31</td>\n",
       "      <td>0.12</td>\n",
       "      <td>0.49</td>\n",
       "      <td>0.96</td>\n",
       "      <td>1</td>\n",
       "    </tr>\n",
       "    <tr>\n",
       "      <th>6</th>\n",
       "      <td>1</td>\n",
       "      <td>0</td>\n",
       "      <td>0</td>\n",
       "      <td>0</td>\n",
       "      <td>0</td>\n",
       "      <td>0</td>\n",
       "      <td>0</td>\n",
       "      <td>0</td>\n",
       "      <td>0</td>\n",
       "      <td>0</td>\n",
       "      <td>...</td>\n",
       "      <td>0</td>\n",
       "      <td>0</td>\n",
       "      <td>0</td>\n",
       "      <td>0</td>\n",
       "      <td>0.08</td>\n",
       "      <td>0.23</td>\n",
       "      <td>0.00</td>\n",
       "      <td>0.48</td>\n",
       "      <td>0.96</td>\n",
       "      <td>1</td>\n",
       "    </tr>\n",
       "    <tr>\n",
       "      <th>...</th>\n",
       "      <td>...</td>\n",
       "      <td>...</td>\n",
       "      <td>...</td>\n",
       "      <td>...</td>\n",
       "      <td>...</td>\n",
       "      <td>...</td>\n",
       "      <td>...</td>\n",
       "      <td>...</td>\n",
       "      <td>...</td>\n",
       "      <td>...</td>\n",
       "      <td>...</td>\n",
       "      <td>...</td>\n",
       "      <td>...</td>\n",
       "      <td>...</td>\n",
       "      <td>...</td>\n",
       "      <td>...</td>\n",
       "      <td>...</td>\n",
       "      <td>...</td>\n",
       "      <td>...</td>\n",
       "      <td>...</td>\n",
       "      <td>...</td>\n",
       "    </tr>\n",
       "    <tr>\n",
       "      <th>51284</th>\n",
       "      <td>0</td>\n",
       "      <td>0</td>\n",
       "      <td>1</td>\n",
       "      <td>0</td>\n",
       "      <td>0</td>\n",
       "      <td>0</td>\n",
       "      <td>0</td>\n",
       "      <td>0</td>\n",
       "      <td>0</td>\n",
       "      <td>0</td>\n",
       "      <td>...</td>\n",
       "      <td>0</td>\n",
       "      <td>0</td>\n",
       "      <td>0</td>\n",
       "      <td>0</td>\n",
       "      <td>0.00</td>\n",
       "      <td>0.31</td>\n",
       "      <td>0.12</td>\n",
       "      <td>0.44</td>\n",
       "      <td>0.00</td>\n",
       "      <td>1</td>\n",
       "    </tr>\n",
       "    <tr>\n",
       "      <th>51285</th>\n",
       "      <td>0</td>\n",
       "      <td>1</td>\n",
       "      <td>0</td>\n",
       "      <td>0</td>\n",
       "      <td>0</td>\n",
       "      <td>0</td>\n",
       "      <td>0</td>\n",
       "      <td>0</td>\n",
       "      <td>0</td>\n",
       "      <td>0</td>\n",
       "      <td>...</td>\n",
       "      <td>0</td>\n",
       "      <td>0</td>\n",
       "      <td>0</td>\n",
       "      <td>0</td>\n",
       "      <td>0.00</td>\n",
       "      <td>0.31</td>\n",
       "      <td>0.00</td>\n",
       "      <td>0.44</td>\n",
       "      <td>0.00</td>\n",
       "      <td>1</td>\n",
       "    </tr>\n",
       "    <tr>\n",
       "      <th>51287</th>\n",
       "      <td>0</td>\n",
       "      <td>0</td>\n",
       "      <td>1</td>\n",
       "      <td>0</td>\n",
       "      <td>0</td>\n",
       "      <td>0</td>\n",
       "      <td>0</td>\n",
       "      <td>0</td>\n",
       "      <td>0</td>\n",
       "      <td>0</td>\n",
       "      <td>...</td>\n",
       "      <td>0</td>\n",
       "      <td>0</td>\n",
       "      <td>0</td>\n",
       "      <td>0</td>\n",
       "      <td>0.00</td>\n",
       "      <td>0.15</td>\n",
       "      <td>0.00</td>\n",
       "      <td>0.44</td>\n",
       "      <td>0.00</td>\n",
       "      <td>1</td>\n",
       "    </tr>\n",
       "    <tr>\n",
       "      <th>51288</th>\n",
       "      <td>0</td>\n",
       "      <td>0</td>\n",
       "      <td>1</td>\n",
       "      <td>0</td>\n",
       "      <td>0</td>\n",
       "      <td>0</td>\n",
       "      <td>0</td>\n",
       "      <td>0</td>\n",
       "      <td>0</td>\n",
       "      <td>0</td>\n",
       "      <td>...</td>\n",
       "      <td>0</td>\n",
       "      <td>0</td>\n",
       "      <td>0</td>\n",
       "      <td>0</td>\n",
       "      <td>0.00</td>\n",
       "      <td>0.08</td>\n",
       "      <td>0.00</td>\n",
       "      <td>0.44</td>\n",
       "      <td>0.00</td>\n",
       "      <td>1</td>\n",
       "    </tr>\n",
       "    <tr>\n",
       "      <th>51289</th>\n",
       "      <td>1</td>\n",
       "      <td>0</td>\n",
       "      <td>0</td>\n",
       "      <td>0</td>\n",
       "      <td>0</td>\n",
       "      <td>0</td>\n",
       "      <td>0</td>\n",
       "      <td>0</td>\n",
       "      <td>0</td>\n",
       "      <td>0</td>\n",
       "      <td>...</td>\n",
       "      <td>0</td>\n",
       "      <td>0</td>\n",
       "      <td>0</td>\n",
       "      <td>0</td>\n",
       "      <td>0.00</td>\n",
       "      <td>0.15</td>\n",
       "      <td>0.00</td>\n",
       "      <td>0.44</td>\n",
       "      <td>0.00</td>\n",
       "      <td>1</td>\n",
       "    </tr>\n",
       "  </tbody>\n",
       "</table>\n",
       "<p>38078 rows × 8714 columns</p>\n",
       "</div>"
      ],
      "text/plain": [
       "       Segment_Consumer  Segment_Corporate  Segment_Home Office  City_Aachen  City_Aalen  City_Aalst  City_Aba  City_Abadan  City_Abakaliki  City_Abbeville  ...  Product_Name_iOttie HLCRIO102 Car Mount  Product_Name_iOttie XL Car Mount  Product_Name_invisibleSHIELD by ZAGG Smudge-Free Screen Protector  Product_Name_netTALK DUO VoIP Telephone Service  Sales  Quantity  Discount  Profit  Shipping_Cost  Profitable\n",
       "0              1                 0                   0                0            0           0          0          0              0               0        ...                     0                                     0                                         0                                                                 0                         0.10     0.46      0.00     0.49       1.00            1    \n",
       "2              1                 0                   0                0            0           0          0          0              0               0        ...                     0                                     0                                         0                                                                 0                         0.23     0.62      0.12     0.50       0.98            1    \n",
       "4              1                 0                   0                0            0           0          0          0              0               0        ...                     0                                     0                                         0                                                                 0                         0.13     0.54      0.00     0.46       0.97            1    \n",
       "5              0                 1                   0                0            0           0          0          0              0               0        ...                     0                                     0                                         0                                                                 0                         0.13     0.31      0.12     0.49       0.96            1    \n",
       "6              1                 0                   0                0            0           0          0          0              0               0        ...                     0                                     0                                         0                                                                 0                         0.08     0.23      0.00     0.48       0.96            1    \n",
       "...                 ...                ...                  ...          ...         ...         ...       ...          ...             ...             ...  ...                                      ...                               ...                                                ...                                                              ...    ...       ...       ...     ...            ...         ...\n",
       "51284          0                 0                   1                0            0           0          0          0              0               0        ...                     0                                     0                                         0                                                                 0                         0.00     0.31      0.12     0.44       0.00            1    \n",
       "51285          0                 1                   0                0            0           0          0          0              0               0        ...                     0                                     0                                         0                                                                 0                         0.00     0.31      0.00     0.44       0.00            1    \n",
       "51287          0                 0                   1                0            0           0          0          0              0               0        ...                     0                                     0                                         0                                                                 0                         0.00     0.15      0.00     0.44       0.00            1    \n",
       "51288          0                 0                   1                0            0           0          0          0              0               0        ...                     0                                     0                                         0                                                                 0                         0.00     0.08      0.00     0.44       0.00            1    \n",
       "51289          1                 0                   0                0            0           0          0          0              0               0        ...                     0                                     0                                         0                                                                 0                         0.00     0.15      0.00     0.44       0.00            1    \n",
       "\n",
       "[38078 rows x 8714 columns]"
      ]
     },
     "execution_count": 36,
     "metadata": {},
     "output_type": "execute_result"
    }
   ],
   "source": [
    "# filtering with query method\n",
    "(pd.DataFrame(df.query('Profitable == 1')))"
   ]
  },
  {
   "cell_type": "code",
   "execution_count": null,
   "id": "4f890576",
   "metadata": {},
   "outputs": [],
   "source": []
  }
 ],
 "metadata": {
  "kernelspec": {
   "display_name": "Python 3 (ipykernel)",
   "language": "python",
   "name": "python3"
  },
  "language_info": {
   "codemirror_mode": {
    "name": "ipython",
    "version": 3
   },
   "file_extension": ".py",
   "mimetype": "text/x-python",
   "name": "python",
   "nbconvert_exporter": "python",
   "pygments_lexer": "ipython3",
   "version": "3.9.12"
  }
 },
 "nbformat": 4,
 "nbformat_minor": 5
}
